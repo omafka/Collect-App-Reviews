{
 "cells": [
  {
   "cell_type": "code",
   "execution_count": 1,
   "id": "68468842",
   "metadata": {},
   "outputs": [],
   "source": [
    "import warnings\n",
    "warnings.filterwarnings('ignore')"
   ]
  },
  {
   "cell_type": "markdown",
   "id": "90c0544d",
   "metadata": {},
   "source": [
    "# Анализ настроений отзывов на приложения в Google Store и App Store"
   ]
  },
  {
   "cell_type": "markdown",
   "id": "dba65b0d",
   "metadata": {},
   "source": [
    "**Корректность проверена на:**\n",
    "+ python 3.8.8\n",
    "+ pandas 1.2.4\n",
    "+ numpy 1.20.1\n",
    "+ sklearn 1.1.2"
   ]
  },
  {
   "cell_type": "code",
   "execution_count": 2,
   "id": "fdc1d9e3",
   "metadata": {},
   "outputs": [],
   "source": [
    "import pandas as pd\n",
    "import numpy as np\n",
    "from sklearn.feature_extraction.text import TfidfTransformer, CountVectorizer, TfidfVectorizer\n",
    "from sklearn.linear_model import LogisticRegression, SGDClassifier\n",
    "from sklearn.svm import LinearSVC\n",
    "from sklearn.model_selection import cross_val_score\n",
    "from sklearn.pipeline import Pipeline\n",
    "from sklearn.model_selection import train_test_split\n",
    "from sklearn import metrics\n",
    "from imblearn.over_sampling import RandomOverSampler\n",
    "import matplotlib.pyplot as plt"
   ]
  },
  {
   "cell_type": "code",
   "execution_count": 3,
   "id": "11f0f148",
   "metadata": {},
   "outputs": [
    {
     "data": {
      "text/html": [
       "<div>\n",
       "<style scoped>\n",
       "    .dataframe tbody tr th:only-of-type {\n",
       "        vertical-align: middle;\n",
       "    }\n",
       "\n",
       "    .dataframe tbody tr th {\n",
       "        vertical-align: top;\n",
       "    }\n",
       "\n",
       "    .dataframe thead th {\n",
       "        text-align: right;\n",
       "    }\n",
       "</style>\n",
       "<table border=\"1\" class=\"dataframe\">\n",
       "  <thead>\n",
       "    <tr style=\"text-align: right;\">\n",
       "      <th></th>\n",
       "      <th>rating</th>\n",
       "      <th>app_review_text</th>\n",
       "      <th>timestamp</th>\n",
       "      <th>userName</th>\n",
       "      <th>app_name</th>\n",
       "      <th>marketplace</th>\n",
       "      <th>country</th>\n",
       "    </tr>\n",
       "  </thead>\n",
       "  <tbody>\n",
       "    <tr>\n",
       "      <th>0</th>\n",
       "      <td>4</td>\n",
       "      <td>Great app. So far I am very new to this app, h...</td>\n",
       "      <td>2021-08-25 19:03:14</td>\n",
       "      <td>$cashguy$</td>\n",
       "      <td>Crypto.com</td>\n",
       "      <td>Apple App Store</td>\n",
       "      <td>us</td>\n",
       "    </tr>\n",
       "    <tr>\n",
       "      <th>1</th>\n",
       "      <td>5</td>\n",
       "      <td>Wonderful Crypto App Review Rating. I was so d...</td>\n",
       "      <td>2022-12-09 20:29:00</td>\n",
       "      <td>Joann172</td>\n",
       "      <td>Crypto.com</td>\n",
       "      <td>Apple App Store</td>\n",
       "      <td>us</td>\n",
       "    </tr>\n",
       "    <tr>\n",
       "      <th>2</th>\n",
       "      <td>5</td>\n",
       "      <td>Definitely sufficient wonderful app review. I ...</td>\n",
       "      <td>2023-01-13 19:40:15</td>\n",
       "      <td>Theodore$2G4</td>\n",
       "      <td>Crypto.com</td>\n",
       "      <td>Apple App Store</td>\n",
       "      <td>us</td>\n",
       "    </tr>\n",
       "    <tr>\n",
       "      <th>3</th>\n",
       "      <td>5</td>\n",
       "      <td>Excellent trading service app. I was so dissat...</td>\n",
       "      <td>2022-12-22 22:09:16</td>\n",
       "      <td>KayT07839$</td>\n",
       "      <td>Crypto.com</td>\n",
       "      <td>Apple App Store</td>\n",
       "      <td>us</td>\n",
       "    </tr>\n",
       "    <tr>\n",
       "      <th>4</th>\n",
       "      <td>5</td>\n",
       "      <td>A great crypto app 💯. I was impatient to carry...</td>\n",
       "      <td>2022-11-29 02:23:55</td>\n",
       "      <td>Maria Bronce 🍀🥰🍀</td>\n",
       "      <td>Crypto.com</td>\n",
       "      <td>Apple App Store</td>\n",
       "      <td>us</td>\n",
       "    </tr>\n",
       "  </tbody>\n",
       "</table>\n",
       "</div>"
      ],
      "text/plain": [
       "   rating                                    app_review_text  \\\n",
       "0       4  Great app. So far I am very new to this app, h...   \n",
       "1       5  Wonderful Crypto App Review Rating. I was so d...   \n",
       "2       5  Definitely sufficient wonderful app review. I ...   \n",
       "3       5  Excellent trading service app. I was so dissat...   \n",
       "4       5  A great crypto app 💯. I was impatient to carry...   \n",
       "\n",
       "             timestamp          userName    app_name      marketplace country  \n",
       "0  2021-08-25 19:03:14         $cashguy$  Crypto.com  Apple App Store      us  \n",
       "1  2022-12-09 20:29:00          Joann172  Crypto.com  Apple App Store      us  \n",
       "2  2023-01-13 19:40:15      Theodore$2G4  Crypto.com  Apple App Store      us  \n",
       "3  2022-12-22 22:09:16        KayT07839$  Crypto.com  Apple App Store      us  \n",
       "4  2022-11-29 02:23:55  Maria Bronce 🍀🥰🍀  Crypto.com  Apple App Store      us  "
      ]
     },
     "execution_count": 3,
     "metadata": {},
     "output_type": "execute_result"
    }
   ],
   "source": [
    "#загрузим данные из файла\n",
    "all_reviews = pd.read_csv('Reviews_CryptoApp.csv')\n",
    "#посмотрим на них\n",
    "all_reviews.head()"
   ]
  },
  {
   "cell_type": "code",
   "execution_count": 4,
   "id": "76a69fbc",
   "metadata": {},
   "outputs": [
    {
     "name": "stdout",
     "output_type": "stream",
     "text": [
      "<class 'pandas.core.frame.DataFrame'>\n",
      "RangeIndex: 1000 entries, 0 to 999\n",
      "Data columns (total 7 columns):\n",
      " #   Column           Non-Null Count  Dtype \n",
      "---  ------           --------------  ----- \n",
      " 0   rating           1000 non-null   int64 \n",
      " 1   app_review_text  1000 non-null   object\n",
      " 2   timestamp        1000 non-null   object\n",
      " 3   userName         1000 non-null   object\n",
      " 4   app_name         1000 non-null   object\n",
      " 5   marketplace      1000 non-null   object\n",
      " 6   country          1000 non-null   object\n",
      "dtypes: int64(1), object(6)\n",
      "memory usage: 54.8+ KB\n"
     ]
    }
   ],
   "source": [
    "all_reviews.info()"
   ]
  },
  {
   "cell_type": "code",
   "execution_count": 5,
   "id": "32589df6",
   "metadata": {},
   "outputs": [
    {
     "data": {
      "text/plain": [
       "5    571\n",
       "1    222\n",
       "4     97\n",
       "2     60\n",
       "3     50\n",
       "Name: rating, dtype: int64"
      ]
     },
     "execution_count": 5,
     "metadata": {},
     "output_type": "execute_result"
    }
   ],
   "source": [
    "#Посмотрим на распределение данных по рейтингам\n",
    "all_reviews.rating.value_counts()"
   ]
  },
  {
   "cell_type": "code",
   "execution_count": 6,
   "id": "b96757da",
   "metadata": {},
   "outputs": [],
   "source": [
    "#подготовим данные для обучения\n",
    "#возьмем данные с рейтингом 1 и 5 \n",
    "train_data = all_reviews[all_reviews.rating==1].copy()\n",
    "traindata_5 = all_reviews[all_reviews.rating==5].copy()\n",
    "#для равного распределения обучающих данных возьмем отзывы с рейтингом 5 в том е количестве, что и с рейтингом 1\n",
    "train_data = train_data.append(traindata_5[:all_reviews[all_reviews.rating==1].shape[0]])"
   ]
  },
  {
   "cell_type": "code",
   "execution_count": 7,
   "id": "41ccbdd1",
   "metadata": {},
   "outputs": [
    {
     "data": {
      "text/plain": [
       "1    222\n",
       "5    222\n",
       "Name: rating, dtype: int64"
      ]
     },
     "execution_count": 7,
     "metadata": {},
     "output_type": "execute_result"
    }
   ],
   "source": [
    "train_data.rating.value_counts()"
   ]
  },
  {
   "cell_type": "code",
   "execution_count": 8,
   "id": "a1fadea3",
   "metadata": {},
   "outputs": [],
   "source": [
    "#отделяем текст для анализа\n",
    "texts = train_data['app_review_text']\n",
    "#преобразуем негативную оценку в 0 и позитивную в 1\n",
    "labels = np.array([0 if t==1 else 1 for t in train_data['rating']])"
   ]
  },
  {
   "cell_type": "code",
   "execution_count": 9,
   "id": "6881dbc3",
   "metadata": {},
   "outputs": [],
   "source": [
    "#разобъем данные на обучающий и тестовый наборы и перемешаем\n",
    "X_train, X_test, y_train, y_test = train_test_split(\n",
    "        texts, labels, test_size=0.3, random_state=1, shuffle=True)"
   ]
  },
  {
   "cell_type": "markdown",
   "id": "3e3e846a",
   "metadata": {},
   "source": [
    "## Оценка качества работы разных классификаторов"
   ]
  },
  {
   "cell_type": "code",
   "execution_count": 10,
   "id": "de9e8855",
   "metadata": {},
   "outputs": [],
   "source": [
    "#Pipeline для текстовой классификации\n",
    "def text_classifier(vectorizer, transformer, classifier):\n",
    "    return Pipeline(\n",
    "            [(\"vectorizer\", vectorizer),\n",
    "            (\"transformer\", transformer),\n",
    "            (\"classifier\", classifier)]\n",
    "        )"
   ]
  },
  {
   "cell_type": "code",
   "execution_count": 11,
   "id": "46439416",
   "metadata": {},
   "outputs": [
    {
     "name": "stdout",
     "output_type": "stream",
     "text": [
      "<class 'sklearn.linear_model._logistic.LogisticRegression'>\n",
      "0.8225806451612904\n",
      "\n",
      "\n",
      "<class 'sklearn.svm._classes.LinearSVC'>\n",
      "0.8451612903225806\n",
      "\n",
      "\n",
      "<class 'sklearn.linear_model._stochastic_gradient.SGDClassifier'>\n",
      "0.8451612903225806\n",
      "\n",
      "\n"
     ]
    }
   ],
   "source": [
    "#оценим качество работы разных классификаторов\n",
    "for clf in [LogisticRegression, LinearSVC, SGDClassifier]:\n",
    "    print(clf)\n",
    "    print(cross_val_score(text_classifier(CountVectorizer(), TfidfTransformer(), clf()), X_train, y_train).mean())\n",
    "    print(\"\\n\")"
   ]
  },
  {
   "cell_type": "markdown",
   "id": "9b130b31",
   "metadata": {},
   "source": [
    "Видим, что метрика линейного SVM лучше всего"
   ]
  },
  {
   "cell_type": "code",
   "execution_count": 12,
   "id": "ef7eb48b",
   "metadata": {},
   "outputs": [
    {
     "data": {
      "text/html": [
       "<style>#sk-container-id-1 {color: black;background-color: white;}#sk-container-id-1 pre{padding: 0;}#sk-container-id-1 div.sk-toggleable {background-color: white;}#sk-container-id-1 label.sk-toggleable__label {cursor: pointer;display: block;width: 100%;margin-bottom: 0;padding: 0.3em;box-sizing: border-box;text-align: center;}#sk-container-id-1 label.sk-toggleable__label-arrow:before {content: \"▸\";float: left;margin-right: 0.25em;color: #696969;}#sk-container-id-1 label.sk-toggleable__label-arrow:hover:before {color: black;}#sk-container-id-1 div.sk-estimator:hover label.sk-toggleable__label-arrow:before {color: black;}#sk-container-id-1 div.sk-toggleable__content {max-height: 0;max-width: 0;overflow: hidden;text-align: left;background-color: #f0f8ff;}#sk-container-id-1 div.sk-toggleable__content pre {margin: 0.2em;color: black;border-radius: 0.25em;background-color: #f0f8ff;}#sk-container-id-1 input.sk-toggleable__control:checked~div.sk-toggleable__content {max-height: 200px;max-width: 100%;overflow: auto;}#sk-container-id-1 input.sk-toggleable__control:checked~label.sk-toggleable__label-arrow:before {content: \"▾\";}#sk-container-id-1 div.sk-estimator input.sk-toggleable__control:checked~label.sk-toggleable__label {background-color: #d4ebff;}#sk-container-id-1 div.sk-label input.sk-toggleable__control:checked~label.sk-toggleable__label {background-color: #d4ebff;}#sk-container-id-1 input.sk-hidden--visually {border: 0;clip: rect(1px 1px 1px 1px);clip: rect(1px, 1px, 1px, 1px);height: 1px;margin: -1px;overflow: hidden;padding: 0;position: absolute;width: 1px;}#sk-container-id-1 div.sk-estimator {font-family: monospace;background-color: #f0f8ff;border: 1px dotted black;border-radius: 0.25em;box-sizing: border-box;margin-bottom: 0.5em;}#sk-container-id-1 div.sk-estimator:hover {background-color: #d4ebff;}#sk-container-id-1 div.sk-parallel-item::after {content: \"\";width: 100%;border-bottom: 1px solid gray;flex-grow: 1;}#sk-container-id-1 div.sk-label:hover label.sk-toggleable__label {background-color: #d4ebff;}#sk-container-id-1 div.sk-serial::before {content: \"\";position: absolute;border-left: 1px solid gray;box-sizing: border-box;top: 0;bottom: 0;left: 50%;z-index: 0;}#sk-container-id-1 div.sk-serial {display: flex;flex-direction: column;align-items: center;background-color: white;padding-right: 0.2em;padding-left: 0.2em;position: relative;}#sk-container-id-1 div.sk-item {position: relative;z-index: 1;}#sk-container-id-1 div.sk-parallel {display: flex;align-items: stretch;justify-content: center;background-color: white;position: relative;}#sk-container-id-1 div.sk-item::before, #sk-container-id-1 div.sk-parallel-item::before {content: \"\";position: absolute;border-left: 1px solid gray;box-sizing: border-box;top: 0;bottom: 0;left: 50%;z-index: -1;}#sk-container-id-1 div.sk-parallel-item {display: flex;flex-direction: column;z-index: 1;position: relative;background-color: white;}#sk-container-id-1 div.sk-parallel-item:first-child::after {align-self: flex-end;width: 50%;}#sk-container-id-1 div.sk-parallel-item:last-child::after {align-self: flex-start;width: 50%;}#sk-container-id-1 div.sk-parallel-item:only-child::after {width: 0;}#sk-container-id-1 div.sk-dashed-wrapped {border: 1px dashed gray;margin: 0 0.4em 0.5em 0.4em;box-sizing: border-box;padding-bottom: 0.4em;background-color: white;}#sk-container-id-1 div.sk-label label {font-family: monospace;font-weight: bold;display: inline-block;line-height: 1.2em;}#sk-container-id-1 div.sk-label-container {text-align: center;}#sk-container-id-1 div.sk-container {/* jupyter's `normalize.less` sets `[hidden] { display: none; }` but bootstrap.min.css set `[hidden] { display: none !important; }` so we also need the `!important` here to be able to override the default hidden behavior on the sphinx rendered scikit-learn.org. See: https://github.com/scikit-learn/scikit-learn/issues/21755 */display: inline-block !important;position: relative;}#sk-container-id-1 div.sk-text-repr-fallback {display: none;}</style><div id=\"sk-container-id-1\" class=\"sk-top-container\"><div class=\"sk-text-repr-fallback\"><pre>Pipeline(steps=[(&#x27;vectorizer&#x27;, TfidfVectorizer()), (&#x27;classifier&#x27;, LinearSVC())])</pre><b>In a Jupyter environment, please rerun this cell to show the HTML representation or trust the notebook. <br />On GitHub, the HTML representation is unable to render, please try loading this page with nbviewer.org.</b></div><div class=\"sk-container\" hidden><div class=\"sk-item sk-dashed-wrapped\"><div class=\"sk-label-container\"><div class=\"sk-label sk-toggleable\"><input class=\"sk-toggleable__control sk-hidden--visually\" id=\"sk-estimator-id-1\" type=\"checkbox\" ><label for=\"sk-estimator-id-1\" class=\"sk-toggleable__label sk-toggleable__label-arrow\">Pipeline</label><div class=\"sk-toggleable__content\"><pre>Pipeline(steps=[(&#x27;vectorizer&#x27;, TfidfVectorizer()), (&#x27;classifier&#x27;, LinearSVC())])</pre></div></div></div><div class=\"sk-serial\"><div class=\"sk-item\"><div class=\"sk-estimator sk-toggleable\"><input class=\"sk-toggleable__control sk-hidden--visually\" id=\"sk-estimator-id-2\" type=\"checkbox\" ><label for=\"sk-estimator-id-2\" class=\"sk-toggleable__label sk-toggleable__label-arrow\">TfidfVectorizer</label><div class=\"sk-toggleable__content\"><pre>TfidfVectorizer()</pre></div></div></div><div class=\"sk-item\"><div class=\"sk-estimator sk-toggleable\"><input class=\"sk-toggleable__control sk-hidden--visually\" id=\"sk-estimator-id-3\" type=\"checkbox\" ><label for=\"sk-estimator-id-3\" class=\"sk-toggleable__label sk-toggleable__label-arrow\">LinearSVC</label><div class=\"sk-toggleable__content\"><pre>LinearSVC()</pre></div></div></div></div></div></div></div>"
      ],
      "text/plain": [
       "Pipeline(steps=[('vectorizer', TfidfVectorizer()), ('classifier', LinearSVC())])"
      ]
     },
     "execution_count": 12,
     "metadata": {},
     "output_type": "execute_result"
    }
   ],
   "source": [
    "#Подготовка классификатора, обученного на всех данных\n",
    "clf_pipeline = Pipeline(\n",
    "            [(\"vectorizer\", TfidfVectorizer()),\n",
    "            (\"classifier\", LinearSVC())] )\n",
    "\n",
    "\n",
    "clf_pipeline.fit(X_train, y_train)"
   ]
  },
  {
   "cell_type": "code",
   "execution_count": 13,
   "id": "f60d8ee7",
   "metadata": {},
   "outputs": [
    {
     "name": "stdout",
     "output_type": "stream",
     "text": [
      "Accuracy: 0.8507462686567164\n"
     ]
    }
   ],
   "source": [
    "#оценим точность на тестовой выборке\n",
    "predicted = clf_pipeline.predict(X_test)\n",
    "print(\"Accuracy:\",metrics.accuracy_score(y_test, predicted))"
   ]
  },
  {
   "cell_type": "code",
   "execution_count": 14,
   "id": "7690ba5a",
   "metadata": {},
   "outputs": [
    {
     "name": "stdout",
     "output_type": "stream",
     "text": [
      "Accuracy: 0.8431578947368421\n"
     ]
    }
   ],
   "source": [
    "#расширим выборку и посмотрим на результат предсказаний\n",
    "train_data_all = all_reviews[all_reviews.rating.isin([1,2,4,5])].copy()\n",
    "labels_all = np.array([0 if t==1 or t ==2 else 1 for t in train_data_all['rating']])\n",
    "predicted_all = clf_pipeline.predict(train_data_all['app_review_text'])\n",
    "print(\"Accuracy:\",metrics.accuracy_score(labels_all, predicted_all))"
   ]
  },
  {
   "cell_type": "code",
   "execution_count": 15,
   "id": "71747add",
   "metadata": {},
   "outputs": [
    {
     "data": {
      "text/html": [
       "<div>\n",
       "<style scoped>\n",
       "    .dataframe tbody tr th:only-of-type {\n",
       "        vertical-align: middle;\n",
       "    }\n",
       "\n",
       "    .dataframe tbody tr th {\n",
       "        vertical-align: top;\n",
       "    }\n",
       "\n",
       "    .dataframe thead th {\n",
       "        text-align: right;\n",
       "    }\n",
       "</style>\n",
       "<table border=\"1\" class=\"dataframe\">\n",
       "  <thead>\n",
       "    <tr style=\"text-align: right;\">\n",
       "      <th></th>\n",
       "      <th>rating</th>\n",
       "      <th>app_review_text</th>\n",
       "      <th>timestamp</th>\n",
       "      <th>userName</th>\n",
       "      <th>app_name</th>\n",
       "      <th>marketplace</th>\n",
       "      <th>country</th>\n",
       "      <th>sentiment_score_1</th>\n",
       "    </tr>\n",
       "  </thead>\n",
       "  <tbody>\n",
       "    <tr>\n",
       "      <th>0</th>\n",
       "      <td>4</td>\n",
       "      <td>Great app. So far I am very new to this app, h...</td>\n",
       "      <td>2021-08-25 19:03:14</td>\n",
       "      <td>$cashguy$</td>\n",
       "      <td>Crypto.com</td>\n",
       "      <td>Apple App Store</td>\n",
       "      <td>us</td>\n",
       "      <td>0</td>\n",
       "    </tr>\n",
       "    <tr>\n",
       "      <th>1</th>\n",
       "      <td>5</td>\n",
       "      <td>Wonderful Crypto App Review Rating. I was so d...</td>\n",
       "      <td>2022-12-09 20:29:00</td>\n",
       "      <td>Joann172</td>\n",
       "      <td>Crypto.com</td>\n",
       "      <td>Apple App Store</td>\n",
       "      <td>us</td>\n",
       "      <td>1</td>\n",
       "    </tr>\n",
       "    <tr>\n",
       "      <th>2</th>\n",
       "      <td>5</td>\n",
       "      <td>Definitely sufficient wonderful app review. I ...</td>\n",
       "      <td>2023-01-13 19:40:15</td>\n",
       "      <td>Theodore$2G4</td>\n",
       "      <td>Crypto.com</td>\n",
       "      <td>Apple App Store</td>\n",
       "      <td>us</td>\n",
       "      <td>1</td>\n",
       "    </tr>\n",
       "    <tr>\n",
       "      <th>3</th>\n",
       "      <td>5</td>\n",
       "      <td>Excellent trading service app. I was so dissat...</td>\n",
       "      <td>2022-12-22 22:09:16</td>\n",
       "      <td>KayT07839$</td>\n",
       "      <td>Crypto.com</td>\n",
       "      <td>Apple App Store</td>\n",
       "      <td>us</td>\n",
       "      <td>1</td>\n",
       "    </tr>\n",
       "    <tr>\n",
       "      <th>4</th>\n",
       "      <td>5</td>\n",
       "      <td>A great crypto app 💯. I was impatient to carry...</td>\n",
       "      <td>2022-11-29 02:23:55</td>\n",
       "      <td>Maria Bronce 🍀🥰🍀</td>\n",
       "      <td>Crypto.com</td>\n",
       "      <td>Apple App Store</td>\n",
       "      <td>us</td>\n",
       "      <td>1</td>\n",
       "    </tr>\n",
       "  </tbody>\n",
       "</table>\n",
       "</div>"
      ],
      "text/plain": [
       "   rating                                    app_review_text  \\\n",
       "0       4  Great app. So far I am very new to this app, h...   \n",
       "1       5  Wonderful Crypto App Review Rating. I was so d...   \n",
       "2       5  Definitely sufficient wonderful app review. I ...   \n",
       "3       5  Excellent trading service app. I was so dissat...   \n",
       "4       5  A great crypto app 💯. I was impatient to carry...   \n",
       "\n",
       "             timestamp          userName    app_name      marketplace country  \\\n",
       "0  2021-08-25 19:03:14         $cashguy$  Crypto.com  Apple App Store      us   \n",
       "1  2022-12-09 20:29:00          Joann172  Crypto.com  Apple App Store      us   \n",
       "2  2023-01-13 19:40:15      Theodore$2G4  Crypto.com  Apple App Store      us   \n",
       "3  2022-12-22 22:09:16        KayT07839$  Crypto.com  Apple App Store      us   \n",
       "4  2022-11-29 02:23:55  Maria Bronce 🍀🥰🍀  Crypto.com  Apple App Store      us   \n",
       "\n",
       "   sentiment_score_1  \n",
       "0                  0  \n",
       "1                  1  \n",
       "2                  1  \n",
       "3                  1  \n",
       "4                  1  "
      ]
     },
     "execution_count": 15,
     "metadata": {},
     "output_type": "execute_result"
    }
   ],
   "source": [
    "all_reviews['sentiment_score_1'] = clf_pipeline.predict(all_reviews['app_review_text'])\n",
    "all_reviews.head()"
   ]
  },
  {
   "cell_type": "markdown",
   "id": "35e6e69e",
   "metadata": {},
   "source": [
    "## Сделаем балансировку классов"
   ]
  },
  {
   "cell_type": "code",
   "execution_count": 16,
   "id": "7f206eb5",
   "metadata": {},
   "outputs": [
    {
     "data": {
      "text/plain": [
       "5    571\n",
       "1    222\n",
       "Name: rating, dtype: int64"
      ]
     },
     "execution_count": 16,
     "metadata": {},
     "output_type": "execute_result"
    }
   ],
   "source": [
    "#возьмем данные с рейтингом 1 и 5 \n",
    "train_data_for_balance = all_reviews[all_reviews.rating.isin([1,5])].copy()\n",
    "train_data_for_balance.rating.value_counts()"
   ]
  },
  {
   "cell_type": "code",
   "execution_count": 17,
   "id": "be818b36",
   "metadata": {},
   "outputs": [],
   "source": [
    "#отделяем текст для анализа\n",
    "texts_for_balance = train_data_for_balance['app_review_text']\n",
    "#преобразуем негативную оценку в 0 и позитовную в 1\n",
    "labels_for_balance = np.array([0 if t==1 else 1 for t in train_data_for_balance['rating']])\n",
    "\n",
    "#разобъем данные на обучающий и тестовый наборы и перемешаем\n",
    "X_train_b, X_test_b, y_train_b, y_test_b = train_test_split(\n",
    "        texts_for_balance, labels_for_balance, test_size=0.3, random_state=1, shuffle=True)"
   ]
  },
  {
   "cell_type": "code",
   "execution_count": 18,
   "id": "4b2c314a",
   "metadata": {},
   "outputs": [
    {
     "name": "stdout",
     "output_type": "stream",
     "text": [
      "<class 'sklearn.linear_model._logistic.LogisticRegression'>\n",
      "0.9076497765659319\n",
      "\n",
      "\n",
      "<class 'sklearn.svm._classes.LinearSVC'>\n",
      "0.9409073695372264\n",
      "\n",
      "\n",
      "<class 'sklearn.linear_model._stochastic_gradient.SGDClassifier'>\n",
      "0.9372036658335225\n",
      "\n",
      "\n"
     ]
    }
   ],
   "source": [
    "#создадим сбалансированную выборку для обучения\n",
    "over_sampler = RandomOverSampler(random_state=42)\n",
    "X = X_train_b.values.reshape(-1, 1)\n",
    "X_over, y_over = over_sampler.fit_resample(X,y_train_b)\n",
    "\n",
    "#оценим качество работы разных классификаторов на сбалансированных классах\n",
    "for clf in [LogisticRegression, LinearSVC, SGDClassifier]:\n",
    "    print(clf)\n",
    "    print(cross_val_score(text_classifier(CountVectorizer(), TfidfTransformer(), clf()), \n",
    "                           X_over.reshape(1,X_over.shape[0])[0], y_over).mean())\n",
    "    print(\"\\n\")"
   ]
  },
  {
   "cell_type": "markdown",
   "id": "febffeea",
   "metadata": {},
   "source": [
    "Видим, что результат метрики линейного SVM на сбалансированных данных еще выше."
   ]
  },
  {
   "cell_type": "code",
   "execution_count": 19,
   "id": "2dd35e12",
   "metadata": {},
   "outputs": [
    {
     "name": "stdout",
     "output_type": "stream",
     "text": [
      "Accuracy balance: 0.8613445378151261\n"
     ]
    }
   ],
   "source": [
    "#Подготовка классификатора, обученного на сбаланстированных данных\n",
    "clf_pipeline_balance = Pipeline([(\"vectorizer\", TfidfVectorizer()),\n",
    "                                (\"classifier\", LinearSVC())] )\n",
    "\n",
    "#обучаем\n",
    "clf_pipeline_balance.fit( X_over.reshape(1,X_over.shape[0])[0], y_over)\n",
    "#посмотрим результаты предсказания\n",
    "predicted_b = clf_pipeline_balance.predict(X_test_b)\n",
    "print(\"Accuracy balance:\",metrics.accuracy_score(y_test_b, predicted_b))"
   ]
  },
  {
   "cell_type": "code",
   "execution_count": 20,
   "id": "4de8a9c7",
   "metadata": {},
   "outputs": [
    {
     "name": "stdout",
     "output_type": "stream",
     "text": [
      "Accuracy: 0.9136842105263158\n"
     ]
    }
   ],
   "source": [
    "#посмотрим на точность при расширении выборки: рейтинги 1,2,4,5\n",
    "train_data_all = all_reviews[all_reviews.rating.isin([1,2,4,5])].copy()\n",
    "labels_all = np.array([0 if t==1 or t ==2 else 1 for t in train_data_all['rating']])\n",
    "predicted_all = clf_pipeline_balance.predict(train_data_all['app_review_text'])\n",
    "print(\"Accuracy:\",metrics.accuracy_score(labels_all, predicted_all))"
   ]
  },
  {
   "cell_type": "markdown",
   "id": "faa47537",
   "metadata": {},
   "source": [
    "С балансировкой классов результат лучше!"
   ]
  },
  {
   "cell_type": "code",
   "execution_count": 21,
   "id": "9ff120c6",
   "metadata": {},
   "outputs": [
    {
     "data": {
      "text/html": [
       "<div>\n",
       "<style scoped>\n",
       "    .dataframe tbody tr th:only-of-type {\n",
       "        vertical-align: middle;\n",
       "    }\n",
       "\n",
       "    .dataframe tbody tr th {\n",
       "        vertical-align: top;\n",
       "    }\n",
       "\n",
       "    .dataframe thead th {\n",
       "        text-align: right;\n",
       "    }\n",
       "</style>\n",
       "<table border=\"1\" class=\"dataframe\">\n",
       "  <thead>\n",
       "    <tr style=\"text-align: right;\">\n",
       "      <th></th>\n",
       "      <th>rating</th>\n",
       "      <th>app_review_text</th>\n",
       "      <th>timestamp</th>\n",
       "      <th>userName</th>\n",
       "      <th>app_name</th>\n",
       "      <th>marketplace</th>\n",
       "      <th>country</th>\n",
       "      <th>sentiment_score_1</th>\n",
       "      <th>sentiment_score_balance</th>\n",
       "    </tr>\n",
       "  </thead>\n",
       "  <tbody>\n",
       "    <tr>\n",
       "      <th>0</th>\n",
       "      <td>4</td>\n",
       "      <td>Great app. So far I am very new to this app, h...</td>\n",
       "      <td>2021-08-25 19:03:14</td>\n",
       "      <td>$cashguy$</td>\n",
       "      <td>Crypto.com</td>\n",
       "      <td>Apple App Store</td>\n",
       "      <td>us</td>\n",
       "      <td>0</td>\n",
       "      <td>0</td>\n",
       "    </tr>\n",
       "    <tr>\n",
       "      <th>1</th>\n",
       "      <td>5</td>\n",
       "      <td>Wonderful Crypto App Review Rating. I was so d...</td>\n",
       "      <td>2022-12-09 20:29:00</td>\n",
       "      <td>Joann172</td>\n",
       "      <td>Crypto.com</td>\n",
       "      <td>Apple App Store</td>\n",
       "      <td>us</td>\n",
       "      <td>1</td>\n",
       "      <td>1</td>\n",
       "    </tr>\n",
       "    <tr>\n",
       "      <th>2</th>\n",
       "      <td>5</td>\n",
       "      <td>Definitely sufficient wonderful app review. I ...</td>\n",
       "      <td>2023-01-13 19:40:15</td>\n",
       "      <td>Theodore$2G4</td>\n",
       "      <td>Crypto.com</td>\n",
       "      <td>Apple App Store</td>\n",
       "      <td>us</td>\n",
       "      <td>1</td>\n",
       "      <td>1</td>\n",
       "    </tr>\n",
       "    <tr>\n",
       "      <th>3</th>\n",
       "      <td>5</td>\n",
       "      <td>Excellent trading service app. I was so dissat...</td>\n",
       "      <td>2022-12-22 22:09:16</td>\n",
       "      <td>KayT07839$</td>\n",
       "      <td>Crypto.com</td>\n",
       "      <td>Apple App Store</td>\n",
       "      <td>us</td>\n",
       "      <td>1</td>\n",
       "      <td>1</td>\n",
       "    </tr>\n",
       "    <tr>\n",
       "      <th>4</th>\n",
       "      <td>5</td>\n",
       "      <td>A great crypto app 💯. I was impatient to carry...</td>\n",
       "      <td>2022-11-29 02:23:55</td>\n",
       "      <td>Maria Bronce 🍀🥰🍀</td>\n",
       "      <td>Crypto.com</td>\n",
       "      <td>Apple App Store</td>\n",
       "      <td>us</td>\n",
       "      <td>1</td>\n",
       "      <td>1</td>\n",
       "    </tr>\n",
       "  </tbody>\n",
       "</table>\n",
       "</div>"
      ],
      "text/plain": [
       "   rating                                    app_review_text  \\\n",
       "0       4  Great app. So far I am very new to this app, h...   \n",
       "1       5  Wonderful Crypto App Review Rating. I was so d...   \n",
       "2       5  Definitely sufficient wonderful app review. I ...   \n",
       "3       5  Excellent trading service app. I was so dissat...   \n",
       "4       5  A great crypto app 💯. I was impatient to carry...   \n",
       "\n",
       "             timestamp          userName    app_name      marketplace country  \\\n",
       "0  2021-08-25 19:03:14         $cashguy$  Crypto.com  Apple App Store      us   \n",
       "1  2022-12-09 20:29:00          Joann172  Crypto.com  Apple App Store      us   \n",
       "2  2023-01-13 19:40:15      Theodore$2G4  Crypto.com  Apple App Store      us   \n",
       "3  2022-12-22 22:09:16        KayT07839$  Crypto.com  Apple App Store      us   \n",
       "4  2022-11-29 02:23:55  Maria Bronce 🍀🥰🍀  Crypto.com  Apple App Store      us   \n",
       "\n",
       "   sentiment_score_1  sentiment_score_balance  \n",
       "0                  0                        0  \n",
       "1                  1                        1  \n",
       "2                  1                        1  \n",
       "3                  1                        1  \n",
       "4                  1                        1  "
      ]
     },
     "execution_count": 21,
     "metadata": {},
     "output_type": "execute_result"
    }
   ],
   "source": [
    "all_reviews['sentiment_score_balance'] = clf_pipeline_balance.predict(all_reviews['app_review_text'])\n",
    "all_reviews.head()"
   ]
  },
  {
   "cell_type": "markdown",
   "id": "6a1d7ef2",
   "metadata": {},
   "source": [
    "## Попробуем Textblob и Vader"
   ]
  },
  {
   "cell_type": "code",
   "execution_count": 22,
   "id": "4f5beb4b",
   "metadata": {},
   "outputs": [
    {
     "name": "stderr",
     "output_type": "stream",
     "text": [
      "[nltk_data] Downloading package vader_lexicon to\n",
      "[nltk_data]     C:\\Users\\Мария\\AppData\\Roaming\\nltk_data...\n",
      "[nltk_data]   Package vader_lexicon is already up-to-date!\n"
     ]
    },
    {
     "data": {
      "text/plain": [
       "True"
      ]
     },
     "execution_count": 22,
     "metadata": {},
     "output_type": "execute_result"
    }
   ],
   "source": [
    "from textblob import TextBlob\n",
    "import nltk\n",
    "from nltk.sentiment.vader import SentimentIntensityAnalyzer\n",
    "nltk.download('vader_lexicon')"
   ]
  },
  {
   "cell_type": "code",
   "execution_count": 23,
   "id": "357642c9",
   "metadata": {},
   "outputs": [],
   "source": [
    "def polarity_TextBlob(text):\n",
    "    x = TextBlob(text).sentiment.polarity\n",
    "        \n",
    "    if x<0:\n",
    "        return 'neg'\n",
    "    elif x==0:\n",
    "        return 'neu'\n",
    "    else:\n",
    "        return 'pos'\n",
    "\n",
    "all_reviews['sentiment_score_TextB'] = all_reviews['app_review_text'].apply(lambda x : polarity_TextBlob(x))"
   ]
  },
  {
   "cell_type": "code",
   "execution_count": 24,
   "id": "5d944232",
   "metadata": {},
   "outputs": [],
   "source": [
    "def polarity_Vader(text):\n",
    "    sid = SentimentIntensityAnalyzer()\n",
    "    ss = sid.polarity_scores(text)\n",
    "    ss.pop('compound')\n",
    "    return max(ss, key=ss.get)\n",
    "    \n",
    "all_reviews['sentiment_score_Vader'] = all_reviews['app_review_text'].apply(lambda x : polarity_Vader(x))"
   ]
  },
  {
   "cell_type": "code",
   "execution_count": 25,
   "id": "65213a52",
   "metadata": {},
   "outputs": [],
   "source": [
    "#посмотрим на полученные данные"
   ]
  },
  {
   "cell_type": "code",
   "execution_count": 26,
   "id": "0556a8f6",
   "metadata": {},
   "outputs": [
    {
     "data": {
      "text/html": [
       "<div>\n",
       "<style scoped>\n",
       "    .dataframe tbody tr th:only-of-type {\n",
       "        vertical-align: middle;\n",
       "    }\n",
       "\n",
       "    .dataframe tbody tr th {\n",
       "        vertical-align: top;\n",
       "    }\n",
       "\n",
       "    .dataframe thead th {\n",
       "        text-align: right;\n",
       "    }\n",
       "</style>\n",
       "<table border=\"1\" class=\"dataframe\">\n",
       "  <thead>\n",
       "    <tr style=\"text-align: right;\">\n",
       "      <th></th>\n",
       "      <th>rating</th>\n",
       "      <th>app_review_text</th>\n",
       "    </tr>\n",
       "  </thead>\n",
       "  <tbody>\n",
       "    <tr>\n",
       "      <th>0</th>\n",
       "      <td>4</td>\n",
       "      <td>Great app. So far I am very new to this app, h...</td>\n",
       "    </tr>\n",
       "    <tr>\n",
       "      <th>1</th>\n",
       "      <td>5</td>\n",
       "      <td>Wonderful Crypto App Review Rating. I was so d...</td>\n",
       "    </tr>\n",
       "    <tr>\n",
       "      <th>2</th>\n",
       "      <td>5</td>\n",
       "      <td>Definitely sufficient wonderful app review. I ...</td>\n",
       "    </tr>\n",
       "    <tr>\n",
       "      <th>3</th>\n",
       "      <td>5</td>\n",
       "      <td>Excellent trading service app. I was so dissat...</td>\n",
       "    </tr>\n",
       "    <tr>\n",
       "      <th>4</th>\n",
       "      <td>5</td>\n",
       "      <td>A great crypto app 💯. I was impatient to carry...</td>\n",
       "    </tr>\n",
       "  </tbody>\n",
       "</table>\n",
       "</div>"
      ],
      "text/plain": [
       "   rating                                    app_review_text\n",
       "0       4  Great app. So far I am very new to this app, h...\n",
       "1       5  Wonderful Crypto App Review Rating. I was so d...\n",
       "2       5  Definitely sufficient wonderful app review. I ...\n",
       "3       5  Excellent trading service app. I was so dissat...\n",
       "4       5  A great crypto app 💯. I was impatient to carry..."
      ]
     },
     "execution_count": 26,
     "metadata": {},
     "output_type": "execute_result"
    }
   ],
   "source": [
    "all_reviews[all_reviews['sentiment_score_TextB']=='pos'][['rating','app_review_text']].head()"
   ]
  },
  {
   "cell_type": "code",
   "execution_count": 27,
   "id": "848cecb2",
   "metadata": {},
   "outputs": [
    {
     "data": {
      "text/html": [
       "<div>\n",
       "<style scoped>\n",
       "    .dataframe tbody tr th:only-of-type {\n",
       "        vertical-align: middle;\n",
       "    }\n",
       "\n",
       "    .dataframe tbody tr th {\n",
       "        vertical-align: top;\n",
       "    }\n",
       "\n",
       "    .dataframe thead th {\n",
       "        text-align: right;\n",
       "    }\n",
       "</style>\n",
       "<table border=\"1\" class=\"dataframe\">\n",
       "  <thead>\n",
       "    <tr style=\"text-align: right;\">\n",
       "      <th></th>\n",
       "      <th>rating</th>\n",
       "      <th>app_review_text</th>\n",
       "    </tr>\n",
       "  </thead>\n",
       "  <tbody>\n",
       "    <tr>\n",
       "      <th>12</th>\n",
       "      <td>1</td>\n",
       "      <td>Doesn’t allow you to buy crypto after a while ...</td>\n",
       "    </tr>\n",
       "    <tr>\n",
       "      <th>19</th>\n",
       "      <td>1</td>\n",
       "      <td>Scam Alert! DO NOT INSTALL CRYPTO APP. UPDATE:...</td>\n",
       "    </tr>\n",
       "    <tr>\n",
       "      <th>26</th>\n",
       "      <td>3</td>\n",
       "      <td>Good and bad. I really like using this app to ...</td>\n",
       "    </tr>\n",
       "    <tr>\n",
       "      <th>31</th>\n",
       "      <td>3</td>\n",
       "      <td>Warning: Believe Every Horrible Review. I ende...</td>\n",
       "    </tr>\n",
       "    <tr>\n",
       "      <th>32</th>\n",
       "      <td>1</td>\n",
       "      <td>Shady business practices. BE AWARE AND LOOK AT...</td>\n",
       "    </tr>\n",
       "  </tbody>\n",
       "</table>\n",
       "</div>"
      ],
      "text/plain": [
       "    rating                                    app_review_text\n",
       "12       1  Doesn’t allow you to buy crypto after a while ...\n",
       "19       1  Scam Alert! DO NOT INSTALL CRYPTO APP. UPDATE:...\n",
       "26       3  Good and bad. I really like using this app to ...\n",
       "31       3  Warning: Believe Every Horrible Review. I ende...\n",
       "32       1  Shady business practices. BE AWARE AND LOOK AT..."
      ]
     },
     "execution_count": 27,
     "metadata": {},
     "output_type": "execute_result"
    }
   ],
   "source": [
    "all_reviews[all_reviews['sentiment_score_TextB']=='neg'][['rating','app_review_text']].head()"
   ]
  },
  {
   "cell_type": "code",
   "execution_count": 28,
   "id": "4892d703",
   "metadata": {},
   "outputs": [
    {
     "data": {
      "text/plain": [
       "5    55\n",
       "1    18\n",
       "4    10\n",
       "2     5\n",
       "3     5\n",
       "Name: rating, dtype: int64"
      ]
     },
     "execution_count": 28,
     "metadata": {},
     "output_type": "execute_result"
    }
   ],
   "source": [
    "all_reviews[all_reviews['sentiment_score_TextB']=='neu'].rating.value_counts()"
   ]
  },
  {
   "cell_type": "code",
   "execution_count": 29,
   "id": "7691ea08",
   "metadata": {},
   "outputs": [
    {
     "data": {
      "text/html": [
       "<div>\n",
       "<style scoped>\n",
       "    .dataframe tbody tr th:only-of-type {\n",
       "        vertical-align: middle;\n",
       "    }\n",
       "\n",
       "    .dataframe tbody tr th {\n",
       "        vertical-align: top;\n",
       "    }\n",
       "\n",
       "    .dataframe thead th {\n",
       "        text-align: right;\n",
       "    }\n",
       "</style>\n",
       "<table border=\"1\" class=\"dataframe\">\n",
       "  <thead>\n",
       "    <tr style=\"text-align: right;\">\n",
       "      <th></th>\n",
       "      <th>rating</th>\n",
       "      <th>app_review_text</th>\n",
       "    </tr>\n",
       "  </thead>\n",
       "  <tbody>\n",
       "    <tr>\n",
       "      <th>60</th>\n",
       "      <td>5</td>\n",
       "      <td>just the way it should be</td>\n",
       "    </tr>\n",
       "    <tr>\n",
       "      <th>61</th>\n",
       "      <td>5</td>\n",
       "      <td>to the moon</td>\n",
       "    </tr>\n",
       "    <tr>\n",
       "      <th>74</th>\n",
       "      <td>5</td>\n",
       "      <td>Respect!</td>\n",
       "    </tr>\n",
       "    <tr>\n",
       "      <th>76</th>\n",
       "      <td>3</td>\n",
       "      <td>Is there any plan to add bone or leash I notic...</td>\n",
       "    </tr>\n",
       "    <tr>\n",
       "      <th>77</th>\n",
       "      <td>1</td>\n",
       "      <td>Trying to login... it will never go through</td>\n",
       "    </tr>\n",
       "  </tbody>\n",
       "</table>\n",
       "</div>"
      ],
      "text/plain": [
       "    rating                                    app_review_text\n",
       "60       5                          just the way it should be\n",
       "61       5                                        to the moon\n",
       "74       5                                           Respect!\n",
       "76       3  Is there any plan to add bone or leash I notic...\n",
       "77       1        Trying to login... it will never go through"
      ]
     },
     "execution_count": 29,
     "metadata": {},
     "output_type": "execute_result"
    }
   ],
   "source": [
    "all_reviews[all_reviews['sentiment_score_TextB']=='neu'][['rating','app_review_text']].head()"
   ]
  },
  {
   "cell_type": "code",
   "execution_count": 30,
   "id": "1824b01b",
   "metadata": {},
   "outputs": [
    {
     "data": {
      "text/html": [
       "<div>\n",
       "<style scoped>\n",
       "    .dataframe tbody tr th:only-of-type {\n",
       "        vertical-align: middle;\n",
       "    }\n",
       "\n",
       "    .dataframe tbody tr th {\n",
       "        vertical-align: top;\n",
       "    }\n",
       "\n",
       "    .dataframe thead th {\n",
       "        text-align: right;\n",
       "    }\n",
       "</style>\n",
       "<table border=\"1\" class=\"dataframe\">\n",
       "  <thead>\n",
       "    <tr style=\"text-align: right;\">\n",
       "      <th></th>\n",
       "      <th>rating</th>\n",
       "      <th>app_review_text</th>\n",
       "    </tr>\n",
       "  </thead>\n",
       "  <tbody>\n",
       "    <tr>\n",
       "      <th>63</th>\n",
       "      <td>5</td>\n",
       "      <td>Awesome app... User friendly... Love the features</td>\n",
       "    </tr>\n",
       "    <tr>\n",
       "      <th>64</th>\n",
       "      <td>5</td>\n",
       "      <td>Highly recommended for reliability and safety.</td>\n",
       "    </tr>\n",
       "    <tr>\n",
       "      <th>65</th>\n",
       "      <td>5</td>\n",
       "      <td>OK</td>\n",
       "    </tr>\n",
       "    <tr>\n",
       "      <th>69</th>\n",
       "      <td>5</td>\n",
       "      <td>best crypto app period.</td>\n",
       "    </tr>\n",
       "    <tr>\n",
       "      <th>71</th>\n",
       "      <td>5</td>\n",
       "      <td>great app and user friendly</td>\n",
       "    </tr>\n",
       "  </tbody>\n",
       "</table>\n",
       "</div>"
      ],
      "text/plain": [
       "    rating                                    app_review_text\n",
       "63       5  Awesome app... User friendly... Love the features\n",
       "64       5     Highly recommended for reliability and safety.\n",
       "65       5                                                 OK\n",
       "69       5                            best crypto app period.\n",
       "71       5                        great app and user friendly"
      ]
     },
     "execution_count": 30,
     "metadata": {},
     "output_type": "execute_result"
    }
   ],
   "source": [
    "all_reviews[all_reviews['sentiment_score_Vader']=='pos'][['rating','app_review_text']].head()"
   ]
  },
  {
   "cell_type": "code",
   "execution_count": 31,
   "id": "511658fc",
   "metadata": {},
   "outputs": [
    {
     "data": {
      "text/html": [
       "<div>\n",
       "<style scoped>\n",
       "    .dataframe tbody tr th:only-of-type {\n",
       "        vertical-align: middle;\n",
       "    }\n",
       "\n",
       "    .dataframe tbody tr th {\n",
       "        vertical-align: top;\n",
       "    }\n",
       "\n",
       "    .dataframe thead th {\n",
       "        text-align: right;\n",
       "    }\n",
       "</style>\n",
       "<table border=\"1\" class=\"dataframe\">\n",
       "  <thead>\n",
       "    <tr style=\"text-align: right;\">\n",
       "      <th></th>\n",
       "      <th>rating</th>\n",
       "      <th>app_review_text</th>\n",
       "    </tr>\n",
       "  </thead>\n",
       "  <tbody>\n",
       "    <tr>\n",
       "      <th>463</th>\n",
       "      <td>1</td>\n",
       "      <td>Another crypto scam!</td>\n",
       "    </tr>\n",
       "    <tr>\n",
       "      <th>564</th>\n",
       "      <td>1</td>\n",
       "      <td>stupid</td>\n",
       "    </tr>\n",
       "    <tr>\n",
       "      <th>690</th>\n",
       "      <td>1</td>\n",
       "      <td>So mad and frustrated, that's all I can say.</td>\n",
       "    </tr>\n",
       "    <tr>\n",
       "      <th>779</th>\n",
       "      <td>1</td>\n",
       "      <td>Not good, i like the old version</td>\n",
       "    </tr>\n",
       "    <tr>\n",
       "      <th>877</th>\n",
       "      <td>1</td>\n",
       "      <td>Terrible P2P experience.</td>\n",
       "    </tr>\n",
       "  </tbody>\n",
       "</table>\n",
       "</div>"
      ],
      "text/plain": [
       "     rating                               app_review_text\n",
       "463       1                          Another crypto scam!\n",
       "564       1                                        stupid\n",
       "690       1  So mad and frustrated, that's all I can say.\n",
       "779       1              Not good, i like the old version\n",
       "877       1                      Terrible P2P experience."
      ]
     },
     "execution_count": 31,
     "metadata": {},
     "output_type": "execute_result"
    }
   ],
   "source": [
    "all_reviews[all_reviews['sentiment_score_Vader']=='neg'][['rating','app_review_text']].head()"
   ]
  },
  {
   "cell_type": "code",
   "execution_count": 32,
   "id": "bb2ca2ae",
   "metadata": {},
   "outputs": [
    {
     "data": {
      "text/html": [
       "<div>\n",
       "<style scoped>\n",
       "    .dataframe tbody tr th:only-of-type {\n",
       "        vertical-align: middle;\n",
       "    }\n",
       "\n",
       "    .dataframe tbody tr th {\n",
       "        vertical-align: top;\n",
       "    }\n",
       "\n",
       "    .dataframe thead th {\n",
       "        text-align: right;\n",
       "    }\n",
       "</style>\n",
       "<table border=\"1\" class=\"dataframe\">\n",
       "  <thead>\n",
       "    <tr style=\"text-align: right;\">\n",
       "      <th></th>\n",
       "      <th>rating</th>\n",
       "      <th>app_review_text</th>\n",
       "    </tr>\n",
       "  </thead>\n",
       "  <tbody>\n",
       "    <tr>\n",
       "      <th>0</th>\n",
       "      <td>4</td>\n",
       "      <td>Great app. So far I am very new to this app, h...</td>\n",
       "    </tr>\n",
       "    <tr>\n",
       "      <th>1</th>\n",
       "      <td>5</td>\n",
       "      <td>Wonderful Crypto App Review Rating. I was so d...</td>\n",
       "    </tr>\n",
       "    <tr>\n",
       "      <th>2</th>\n",
       "      <td>5</td>\n",
       "      <td>Definitely sufficient wonderful app review. I ...</td>\n",
       "    </tr>\n",
       "    <tr>\n",
       "      <th>3</th>\n",
       "      <td>5</td>\n",
       "      <td>Excellent trading service app. I was so dissat...</td>\n",
       "    </tr>\n",
       "    <tr>\n",
       "      <th>4</th>\n",
       "      <td>5</td>\n",
       "      <td>A great crypto app 💯. I was impatient to carry...</td>\n",
       "    </tr>\n",
       "  </tbody>\n",
       "</table>\n",
       "</div>"
      ],
      "text/plain": [
       "   rating                                    app_review_text\n",
       "0       4  Great app. So far I am very new to this app, h...\n",
       "1       5  Wonderful Crypto App Review Rating. I was so d...\n",
       "2       5  Definitely sufficient wonderful app review. I ...\n",
       "3       5  Excellent trading service app. I was so dissat...\n",
       "4       5  A great crypto app 💯. I was impatient to carry..."
      ]
     },
     "execution_count": 32,
     "metadata": {},
     "output_type": "execute_result"
    }
   ],
   "source": [
    "all_reviews[all_reviews['sentiment_score_Vader']=='neu'][['rating','app_review_text']].head()"
   ]
  },
  {
   "cell_type": "code",
   "execution_count": 33,
   "id": "e6532578",
   "metadata": {},
   "outputs": [
    {
     "data": {
      "text/plain": [
       "5    398\n",
       "1    214\n",
       "4     81\n",
       "2     59\n",
       "3     48\n",
       "Name: rating, dtype: int64"
      ]
     },
     "execution_count": 33,
     "metadata": {},
     "output_type": "execute_result"
    }
   ],
   "source": [
    "all_reviews[all_reviews['sentiment_score_Vader']=='neu'].rating.value_counts()"
   ]
  },
  {
   "cell_type": "markdown",
   "id": "73e65c98",
   "metadata": {},
   "source": [
    "Видим, что по негативные отзывы Vader определяет хорошо, но остальные не очень - много классифицирует, как нейтральные, но это не так. Откажемся от него."
   ]
  },
  {
   "cell_type": "code",
   "execution_count": 35,
   "id": "0303bf70",
   "metadata": {},
   "outputs": [],
   "source": [
    "#попробуем оценить способ TextBlob - добавим нейтральные к позитивным\n",
    "all_reviews['sentiment_score_TextB2'] = np.array([0 if t=='neg' else 1 for t in all_reviews['sentiment_score_TextB']])"
   ]
  },
  {
   "cell_type": "code",
   "execution_count": 36,
   "id": "dbc8a1fe",
   "metadata": {},
   "outputs": [
    {
     "data": {
      "text/html": [
       "<div>\n",
       "<style scoped>\n",
       "    .dataframe tbody tr th:only-of-type {\n",
       "        vertical-align: middle;\n",
       "    }\n",
       "\n",
       "    .dataframe tbody tr th {\n",
       "        vertical-align: top;\n",
       "    }\n",
       "\n",
       "    .dataframe thead th {\n",
       "        text-align: right;\n",
       "    }\n",
       "</style>\n",
       "<table border=\"1\" class=\"dataframe\">\n",
       "  <thead>\n",
       "    <tr style=\"text-align: right;\">\n",
       "      <th></th>\n",
       "      <th>rating</th>\n",
       "      <th>app_review_text</th>\n",
       "      <th>timestamp</th>\n",
       "      <th>userName</th>\n",
       "      <th>app_name</th>\n",
       "      <th>marketplace</th>\n",
       "      <th>country</th>\n",
       "      <th>sentiment_score_1</th>\n",
       "      <th>sentiment_score_balance</th>\n",
       "      <th>sentiment_score_TextB</th>\n",
       "      <th>sentiment_score_Vader</th>\n",
       "      <th>sentiment_score_TextB2</th>\n",
       "      <th>sentiment_score_rating</th>\n",
       "    </tr>\n",
       "  </thead>\n",
       "  <tbody>\n",
       "    <tr>\n",
       "      <th>0</th>\n",
       "      <td>4</td>\n",
       "      <td>Great app. So far I am very new to this app, h...</td>\n",
       "      <td>2021-08-25 19:03:14</td>\n",
       "      <td>$cashguy$</td>\n",
       "      <td>Crypto.com</td>\n",
       "      <td>Apple App Store</td>\n",
       "      <td>us</td>\n",
       "      <td>0</td>\n",
       "      <td>0</td>\n",
       "      <td>pos</td>\n",
       "      <td>neu</td>\n",
       "      <td>1</td>\n",
       "      <td>1</td>\n",
       "    </tr>\n",
       "    <tr>\n",
       "      <th>1</th>\n",
       "      <td>5</td>\n",
       "      <td>Wonderful Crypto App Review Rating. I was so d...</td>\n",
       "      <td>2022-12-09 20:29:00</td>\n",
       "      <td>Joann172</td>\n",
       "      <td>Crypto.com</td>\n",
       "      <td>Apple App Store</td>\n",
       "      <td>us</td>\n",
       "      <td>1</td>\n",
       "      <td>1</td>\n",
       "      <td>pos</td>\n",
       "      <td>neu</td>\n",
       "      <td>1</td>\n",
       "      <td>1</td>\n",
       "    </tr>\n",
       "    <tr>\n",
       "      <th>2</th>\n",
       "      <td>5</td>\n",
       "      <td>Definitely sufficient wonderful app review. I ...</td>\n",
       "      <td>2023-01-13 19:40:15</td>\n",
       "      <td>Theodore$2G4</td>\n",
       "      <td>Crypto.com</td>\n",
       "      <td>Apple App Store</td>\n",
       "      <td>us</td>\n",
       "      <td>1</td>\n",
       "      <td>1</td>\n",
       "      <td>pos</td>\n",
       "      <td>neu</td>\n",
       "      <td>1</td>\n",
       "      <td>1</td>\n",
       "    </tr>\n",
       "    <tr>\n",
       "      <th>3</th>\n",
       "      <td>5</td>\n",
       "      <td>Excellent trading service app. I was so dissat...</td>\n",
       "      <td>2022-12-22 22:09:16</td>\n",
       "      <td>KayT07839$</td>\n",
       "      <td>Crypto.com</td>\n",
       "      <td>Apple App Store</td>\n",
       "      <td>us</td>\n",
       "      <td>1</td>\n",
       "      <td>1</td>\n",
       "      <td>pos</td>\n",
       "      <td>neu</td>\n",
       "      <td>1</td>\n",
       "      <td>1</td>\n",
       "    </tr>\n",
       "    <tr>\n",
       "      <th>4</th>\n",
       "      <td>5</td>\n",
       "      <td>A great crypto app 💯. I was impatient to carry...</td>\n",
       "      <td>2022-11-29 02:23:55</td>\n",
       "      <td>Maria Bronce 🍀🥰🍀</td>\n",
       "      <td>Crypto.com</td>\n",
       "      <td>Apple App Store</td>\n",
       "      <td>us</td>\n",
       "      <td>1</td>\n",
       "      <td>1</td>\n",
       "      <td>pos</td>\n",
       "      <td>neu</td>\n",
       "      <td>1</td>\n",
       "      <td>1</td>\n",
       "    </tr>\n",
       "  </tbody>\n",
       "</table>\n",
       "</div>"
      ],
      "text/plain": [
       "   rating                                    app_review_text  \\\n",
       "0       4  Great app. So far I am very new to this app, h...   \n",
       "1       5  Wonderful Crypto App Review Rating. I was so d...   \n",
       "2       5  Definitely sufficient wonderful app review. I ...   \n",
       "3       5  Excellent trading service app. I was so dissat...   \n",
       "4       5  A great crypto app 💯. I was impatient to carry...   \n",
       "\n",
       "             timestamp          userName    app_name      marketplace country  \\\n",
       "0  2021-08-25 19:03:14         $cashguy$  Crypto.com  Apple App Store      us   \n",
       "1  2022-12-09 20:29:00          Joann172  Crypto.com  Apple App Store      us   \n",
       "2  2023-01-13 19:40:15      Theodore$2G4  Crypto.com  Apple App Store      us   \n",
       "3  2022-12-22 22:09:16        KayT07839$  Crypto.com  Apple App Store      us   \n",
       "4  2022-11-29 02:23:55  Maria Bronce 🍀🥰🍀  Crypto.com  Apple App Store      us   \n",
       "\n",
       "   sentiment_score_1  sentiment_score_balance sentiment_score_TextB  \\\n",
       "0                  0                        0                   pos   \n",
       "1                  1                        1                   pos   \n",
       "2                  1                        1                   pos   \n",
       "3                  1                        1                   pos   \n",
       "4                  1                        1                   pos   \n",
       "\n",
       "  sentiment_score_Vader  sentiment_score_TextB2  sentiment_score_rating  \n",
       "0                   neu                       1                       1  \n",
       "1                   neu                       1                       1  \n",
       "2                   neu                       1                       1  \n",
       "3                   neu                       1                       1  \n",
       "4                   neu                       1                       1  "
      ]
     },
     "execution_count": 36,
     "metadata": {},
     "output_type": "execute_result"
    }
   ],
   "source": [
    "#переведём rating к этому же виду\n",
    "all_reviews['sentiment_score_rating'] = np.array([0 if t==1 or t ==2 else 1 for t in all_reviews['rating']])\n",
    "all_reviews.head()"
   ]
  },
  {
   "cell_type": "code",
   "execution_count": 37,
   "id": "c7453ab2",
   "metadata": {
    "scrolled": true
   },
   "outputs": [
    {
     "data": {
      "text/html": [
       "<div>\n",
       "<style scoped>\n",
       "    .dataframe tbody tr th:only-of-type {\n",
       "        vertical-align: middle;\n",
       "    }\n",
       "\n",
       "    .dataframe tbody tr th {\n",
       "        vertical-align: top;\n",
       "    }\n",
       "\n",
       "    .dataframe thead th {\n",
       "        text-align: right;\n",
       "    }\n",
       "</style>\n",
       "<table border=\"1\" class=\"dataframe\">\n",
       "  <thead>\n",
       "    <tr style=\"text-align: right;\">\n",
       "      <th></th>\n",
       "      <th>rating</th>\n",
       "      <th>sentiment_score_1</th>\n",
       "      <th>sentiment_score_balance</th>\n",
       "      <th>sentiment_score_TextB2</th>\n",
       "      <th>sentiment_score_rating</th>\n",
       "    </tr>\n",
       "  </thead>\n",
       "  <tbody>\n",
       "    <tr>\n",
       "      <th>count</th>\n",
       "      <td>950.000000</td>\n",
       "      <td>950.000000</td>\n",
       "      <td>950.000000</td>\n",
       "      <td>950.000000</td>\n",
       "      <td>950.000000</td>\n",
       "    </tr>\n",
       "    <tr>\n",
       "      <th>mean</th>\n",
       "      <td>3.773684</td>\n",
       "      <td>0.586316</td>\n",
       "      <td>0.728421</td>\n",
       "      <td>0.856842</td>\n",
       "      <td>0.703158</td>\n",
       "    </tr>\n",
       "    <tr>\n",
       "      <th>std</th>\n",
       "      <td>1.705487</td>\n",
       "      <td>0.492753</td>\n",
       "      <td>0.445008</td>\n",
       "      <td>0.350418</td>\n",
       "      <td>0.457107</td>\n",
       "    </tr>\n",
       "    <tr>\n",
       "      <th>min</th>\n",
       "      <td>1.000000</td>\n",
       "      <td>0.000000</td>\n",
       "      <td>0.000000</td>\n",
       "      <td>0.000000</td>\n",
       "      <td>0.000000</td>\n",
       "    </tr>\n",
       "    <tr>\n",
       "      <th>25%</th>\n",
       "      <td>2.000000</td>\n",
       "      <td>0.000000</td>\n",
       "      <td>0.000000</td>\n",
       "      <td>1.000000</td>\n",
       "      <td>0.000000</td>\n",
       "    </tr>\n",
       "    <tr>\n",
       "      <th>50%</th>\n",
       "      <td>5.000000</td>\n",
       "      <td>1.000000</td>\n",
       "      <td>1.000000</td>\n",
       "      <td>1.000000</td>\n",
       "      <td>1.000000</td>\n",
       "    </tr>\n",
       "    <tr>\n",
       "      <th>75%</th>\n",
       "      <td>5.000000</td>\n",
       "      <td>1.000000</td>\n",
       "      <td>1.000000</td>\n",
       "      <td>1.000000</td>\n",
       "      <td>1.000000</td>\n",
       "    </tr>\n",
       "    <tr>\n",
       "      <th>max</th>\n",
       "      <td>5.000000</td>\n",
       "      <td>1.000000</td>\n",
       "      <td>1.000000</td>\n",
       "      <td>1.000000</td>\n",
       "      <td>1.000000</td>\n",
       "    </tr>\n",
       "  </tbody>\n",
       "</table>\n",
       "</div>"
      ],
      "text/plain": [
       "           rating  sentiment_score_1  sentiment_score_balance  \\\n",
       "count  950.000000         950.000000               950.000000   \n",
       "mean     3.773684           0.586316                 0.728421   \n",
       "std      1.705487           0.492753                 0.445008   \n",
       "min      1.000000           0.000000                 0.000000   \n",
       "25%      2.000000           0.000000                 0.000000   \n",
       "50%      5.000000           1.000000                 1.000000   \n",
       "75%      5.000000           1.000000                 1.000000   \n",
       "max      5.000000           1.000000                 1.000000   \n",
       "\n",
       "       sentiment_score_TextB2  sentiment_score_rating  \n",
       "count              950.000000              950.000000  \n",
       "mean                 0.856842                0.703158  \n",
       "std                  0.350418                0.457107  \n",
       "min                  0.000000                0.000000  \n",
       "25%                  1.000000                0.000000  \n",
       "50%                  1.000000                1.000000  \n",
       "75%                  1.000000                1.000000  \n",
       "max                  1.000000                1.000000  "
      ]
     },
     "execution_count": 37,
     "metadata": {},
     "output_type": "execute_result"
    }
   ],
   "source": [
    "#попробуем понять, какой score более точный\n",
    "#удалим данные с rating = 3\n",
    "all_reviews_no_3 = all_reviews[all_reviews.rating!=3].copy()\n",
    "all_reviews_no_3.describe()"
   ]
  },
  {
   "cell_type": "markdown",
   "id": "1e9e8540",
   "metadata": {},
   "source": [
    "По показателям mean(среднее) и std (стандартное отклонение) есть ощущение, что показатель sentiment_score_balance самый точный. Посмотрим еще с другой стороны."
   ]
  },
  {
   "cell_type": "code",
   "execution_count": 38,
   "id": "72f8c813",
   "metadata": {},
   "outputs": [
    {
     "name": "stdout",
     "output_type": "stream",
     "text": [
      "Количество разнящихся оценок в первой оценке: 149\n",
      "Количество разнящихся оценок после балансировки: 82\n",
      "Количество разнящихся оценок TextBlob: 204\n"
     ]
    }
   ],
   "source": [
    "df_difference_1 = all_reviews_no_3.loc[all_reviews_no_3.sentiment_score_rating != all_reviews_no_3.sentiment_score_1]\n",
    "df_difference_balance = all_reviews_no_3.loc[all_reviews_no_3.sentiment_score_rating != all_reviews_no_3.sentiment_score_balance]\n",
    "df_difference_TextBlob = all_reviews_no_3.loc[all_reviews_no_3.sentiment_score_rating != all_reviews_no_3.sentiment_score_TextB2]\n",
    "\n",
    "print(\"Количество разнящихся оценок в первой оценке:\", df_difference_1.shape[0])\n",
    "print(\"Количество разнящихся оценок после балансировки:\", df_difference_balance.shape[0])\n",
    "print(\"Количество разнящихся оценок TextBlob:\", df_difference_TextBlob.shape[0])"
   ]
  },
  {
   "cell_type": "code",
   "execution_count": 39,
   "id": "01bc1475",
   "metadata": {},
   "outputs": [
    {
     "data": {
      "image/png": "[encoded data removed]",
      "text/plain": [
       "<Figure size 2160x1080 with 5 Axes>"
      ]
     },
     "metadata": {
      "needs_background": "light"
     },
     "output_type": "display_data"
    }
   ],
   "source": [
    "#попробуем посмотреть на гистограммы рейтингов и разные sentiment_score\n",
    "#Sentiment Barchart\n",
    "plt.figure(figsize=(30, 15))\n",
    "\n",
    "plt.subplot(2,3,1)\n",
    "plt.hist(all_reviews_no_3.sentiment_score_rating.values, color = 'g', label = 'sentiment score')\n",
    "plt.legend()\n",
    "plt.title('rating')\n",
    "\n",
    "plt.subplot(2,3,2)\n",
    "plt.hist(all_reviews_no_3.sentiment_score_1.values, color = 'g', label = 'sentiment score')\n",
    "plt.legend()\n",
    "plt.title('1')\n",
    "\n",
    "plt.subplot(2,3,3)\n",
    "plt.hist(all_reviews_no_3.sentiment_score_balance.values, color = 'g', label = 'sentiment score')\n",
    "plt.legend()\n",
    "plt.title('balance')\n",
    "\n",
    "plt.subplot(2,3,4)\n",
    "plt.hist(all_reviews_no_3.sentiment_score_TextB.values, color = 'g', label = 'sentiment score')\n",
    "plt.legend()\n",
    "plt.title('TextBlob')\n",
    "\n",
    "plt.subplot(2,3,5)\n",
    "plt.hist(all_reviews_no_3.sentiment_score_Vader.values, color = 'g', label = 'sentiment score')\n",
    "plt.legend()\n",
    "plt.title('Vader')\n",
    "\n",
    "plt.show()"
   ]
  },
  {
   "cell_type": "markdown",
   "id": "74afb8f7",
   "metadata": {},
   "source": [
    "Будем считать, что оценка после балансировки классов самая точная. Её и возьмем для выгрузки в файл."
   ]
  },
  {
   "cell_type": "code",
   "execution_count": 40,
   "id": "a8b77022",
   "metadata": {},
   "outputs": [],
   "source": [
    "all_reviews['sentiment_score'] = np.array(['NEGATIVE' if t==0 else 'POSITIVE' for t in all_reviews.sentiment_score_balance])"
   ]
  },
  {
   "cell_type": "markdown",
   "id": "6f887806",
   "metadata": {},
   "source": [
    "Возможно, есть человеческий фактор в том, что люди писали в отзыве и какой ставили рейтинг. "
   ]
  },
  {
   "cell_type": "markdown",
   "id": "5acf1f70",
   "metadata": {},
   "source": [
    "Как можно ещё улучшить:\n",
    "+ попробовать вариант с заменой 'not':\n",
    "    если встречается частичка «не» рядом с каком-то словом, будем считать, что в большинстве случаев «не» относится именно к этому слову, хотя, конечно, так может быть не всегда. Частичку «не» объединим со словом.\n",
    "\n",
    "  def handle_negations(text):    \n",
    "    return text.replace(\"n't\", \"not\").replace(\"n 't\", \" not\")\n",
    "    X = X.apply(handle_negations)\n",
    "\n",
    "\n",
    "+ можно попробовать N-граммы\n",
    "\n",
    "\n",
    "+ можно попробовать Sentiment analysis из HuggingFace Transformers library 🤗"
   ]
  },
  {
   "cell_type": "markdown",
   "id": "cb229d77",
   "metadata": {},
   "source": [
    "## Сохраним данные в .csv файл"
   ]
  },
  {
   "cell_type": "markdown",
   "id": "707fc309",
   "metadata": {},
   "source": [
    "Сделаем CSV-файл со следующей структурой: \n",
    "app name | username | timestamp | app review text | sentiment score | country (language) | marketplace ( Apple App Store or Google Play Store )"
   ]
  },
  {
   "cell_type": "code",
   "execution_count": 41,
   "id": "667a9ea7",
   "metadata": {},
   "outputs": [],
   "source": [
    "all_reviews.to_csv('Reviews_sentiment_score.csv', \n",
    "                   columns = ['app_name','userName','timestamp','app_review_text','sentiment_score','country','marketplace'],\n",
    "                   index=False)"
   ]
  },
  {
   "cell_type": "markdown",
   "id": "c87c2b76",
   "metadata": {},
   "source": [
    "## Проанализируем полученный sentiment_score"
   ]
  },
  {
   "cell_type": "code",
   "execution_count": 42,
   "id": "ff020a55",
   "metadata": {},
   "outputs": [],
   "source": [
    "import seaborn as sns"
   ]
  },
  {
   "cell_type": "code",
   "execution_count": 43,
   "id": "46ae0f46",
   "metadata": {},
   "outputs": [
    {
     "data": {
      "image/png": "[encoded data removed]",
      "text/plain": [
       "<Figure size 544.125x360 with 1 Axes>"
      ]
     },
     "metadata": {
      "needs_background": "light"
     },
     "output_type": "display_data"
    }
   ],
   "source": [
    "#сколько отзывов по каждому приложению\n",
    "sns.catplot(x='sentiment_score', kind='count', hue='app_name', data=all_reviews);"
   ]
  },
  {
   "cell_type": "code",
   "execution_count": 44,
   "id": "fd7ea50d",
   "metadata": {},
   "outputs": [
    {
     "data": {
      "text/plain": [
       "POSITIVE    725\n",
       "NEGATIVE    275\n",
       "Name: sentiment_score, dtype: int64"
      ]
     },
     "execution_count": 44,
     "metadata": {},
     "output_type": "execute_result"
    }
   ],
   "source": [
    "all_reviews.sentiment_score.value_counts()"
   ]
  }
 ],
 "metadata": {
  "kernelspec": {
   "display_name": "Python 3",
   "language": "python",
   "name": "python3"
  },
  "language_info": {
   "codemirror_mode": {
    "name": "ipython",
    "version": 3
   },
   "file_extension": ".py",
   "mimetype": "text/x-python",
   "name": "python",
   "nbconvert_exporter": "python",
   "pygments_lexer": "ipython3",
   "version": "3.8.8"
  }
 },
 "nbformat": 4,
 "nbformat_minor": 5
}
