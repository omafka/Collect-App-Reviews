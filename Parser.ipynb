{
 "cells": [
  {
   "cell_type": "markdown",
   "id": "737cdc49",
   "metadata": {},
   "source": [
    "# Collect reviews on the list of applications from the App Store and Google Store"
   ]
  },
  {
   "cell_type": "markdown",
   "id": "ef32ec96",
   "metadata": {},
   "source": [
    "**Correctness checked for:**\n",
    "+ python 3.8.8\n",
    "+ pandas 1.2.4\n",
    "+ numpy 1.20.1"
   ]
  },
  {
   "cell_type": "code",
   "execution_count": 1,
   "id": "1eab11cc",
   "metadata": {},
   "outputs": [],
   "source": [
    "from app_store_scraper import AppStore\n",
    "from google_play_scraper import Sort, reviews\n",
    "import pandas as pd\n",
    "import numpy as np"
   ]
  },
  {
   "cell_type": "code",
   "execution_count": 2,
   "id": "347f36d0",
   "metadata": {},
   "outputs": [
    {
     "data": {
      "text/html": [
       "<div>\n",
       "<style scoped>\n",
       "    .dataframe tbody tr th:only-of-type {\n",
       "        vertical-align: middle;\n",
       "    }\n",
       "\n",
       "    .dataframe tbody tr th {\n",
       "        vertical-align: top;\n",
       "    }\n",
       "\n",
       "    .dataframe thead th {\n",
       "        text-align: right;\n",
       "    }\n",
       "</style>\n",
       "<table border=\"1\" class=\"dataframe\">\n",
       "  <thead>\n",
       "    <tr style=\"text-align: right;\">\n",
       "      <th></th>\n",
       "      <th>Name</th>\n",
       "      <th>AppStore_name</th>\n",
       "      <th>AppStore_id</th>\n",
       "      <th>GoogleStore_name</th>\n",
       "    </tr>\n",
       "  </thead>\n",
       "  <tbody>\n",
       "    <tr>\n",
       "      <th>0</th>\n",
       "      <td>Crypto.com</td>\n",
       "      <td>crypto-com-buy-bitcoin-eth</td>\n",
       "      <td>1262148500</td>\n",
       "      <td>co.mona.android</td>\n",
       "    </tr>\n",
       "    <tr>\n",
       "      <th>1</th>\n",
       "      <td>Binance</td>\n",
       "      <td>binance-buy-bitcoin-crypto</td>\n",
       "      <td>1436799971</td>\n",
       "      <td>com.binance.dev</td>\n",
       "    </tr>\n",
       "    <tr>\n",
       "      <th>2</th>\n",
       "      <td>KuCoin</td>\n",
       "      <td>kucoin-buy-bitcoin-ether</td>\n",
       "      <td>1378956601</td>\n",
       "      <td>com.kubi.kucoin</td>\n",
       "    </tr>\n",
       "    <tr>\n",
       "      <th>3</th>\n",
       "      <td>Crypto Bubbles</td>\n",
       "      <td>crypto-bubbles</td>\n",
       "      <td>1599892658</td>\n",
       "      <td>net.cryptobubbles</td>\n",
       "    </tr>\n",
       "    <tr>\n",
       "      <th>4</th>\n",
       "      <td>OWNR Digital Wallet</td>\n",
       "      <td>ownr-digital-wallet</td>\n",
       "      <td>1459364947</td>\n",
       "      <td>com.ownrwallet.wallet</td>\n",
       "    </tr>\n",
       "  </tbody>\n",
       "</table>\n",
       "</div>"
      ],
      "text/plain": [
       "                  Name               AppStore_name  AppStore_id  \\\n",
       "0           Crypto.com  crypto-com-buy-bitcoin-eth   1262148500   \n",
       "1              Binance  binance-buy-bitcoin-crypto   1436799971   \n",
       "2               KuCoin    kucoin-buy-bitcoin-ether   1378956601   \n",
       "3       Crypto Bubbles              crypto-bubbles   1599892658   \n",
       "4  OWNR Digital Wallet         ownr-digital-wallet   1459364947   \n",
       "\n",
       "        GoogleStore_name  \n",
       "0        co.mona.android  \n",
       "1        com.binance.dev  \n",
       "2        com.kubi.kucoin  \n",
       "3      net.cryptobubbles  \n",
       "4  com.ownrwallet.wallet  "
      ]
     },
     "execution_count": 2,
     "metadata": {},
     "output_type": "execute_result"
    }
   ],
   "source": [
    "#read file with list of applications \n",
    "crypto_app = pd.read_csv('cryptocurrency-related applications.csv')\n",
    "crypto_app.head()"
   ]
  },
  {
   "cell_type": "code",
   "execution_count": 3,
   "id": "b9c0427f",
   "metadata": {},
   "outputs": [
    {
     "name": "stderr",
     "output_type": "stream",
     "text": [
      "2023-01-25 13:23:15,935 [INFO] Base - Initialised: AppStore('us', 'crypto-com-buy-bitcoin-eth', 1262148500)\n",
      "2023-01-25 13:23:15,936 [INFO] Base - Ready to fetch reviews from: https://apps.apple.com/us/app/crypto-com-buy-bitcoin-eth/id1262148500\n",
      "2023-01-25 13:23:16,389 [INFO] Base - [id:1262148500] Fetched 60 reviews (60 fetched in total)\n",
      "2023-01-25 13:23:16,945 [INFO] Base - Initialised: AppStore('us', 'binance-buy-bitcoin-crypto', 1436799971)\n",
      "2023-01-25 13:23:16,945 [INFO] Base - Ready to fetch reviews from: https://apps.apple.com/us/app/binance-buy-bitcoin-crypto/id1436799971\n",
      "2023-01-25 13:23:17,403 [INFO] Base - [id:1436799971] Fetched 60 reviews (60 fetched in total)\n",
      "2023-01-25 13:23:18,015 [INFO] Base - Initialised: AppStore('us', 'kucoin-buy-bitcoin-ether', 1378956601)\n",
      "2023-01-25 13:23:18,018 [INFO] Base - Ready to fetch reviews from: https://apps.apple.com/us/app/kucoin-buy-bitcoin-ether/id1378956601\n",
      "2023-01-25 13:23:18,532 [INFO] Base - [id:1378956601] Fetched 60 reviews (60 fetched in total)\n",
      "2023-01-25 13:23:20,614 [INFO] Base - Initialised: AppStore('us', 'crypto-bubbles', 1599892658)\n",
      "2023-01-25 13:23:20,615 [INFO] Base - Ready to fetch reviews from: https://apps.apple.com/us/app/crypto-bubbles/id1599892658\n",
      "2023-01-25 13:23:20,900 [INFO] Base - [id:1599892658] Fetched 5 reviews (5 fetched in total)\n",
      "2023-01-25 13:23:21,878 [INFO] Base - Initialised: AppStore('us', 'ownr-digital-wallet', 1459364947)\n",
      "2023-01-25 13:23:21,880 [INFO] Base - Ready to fetch reviews from: https://apps.apple.com/us/app/ownr-digital-wallet/id1459364947\n",
      "2023-01-25 13:23:22,703 [INFO] Base - [id:1459364947] Fetched 60 reviews (60 fetched in total)\n",
      "2023-01-25 13:23:23,738 [INFO] Base - Initialised: AppStore('us', 'coinmarketcap-crypto-tracker', 1282107098)\n",
      "2023-01-25 13:23:23,739 [INFO] Base - Ready to fetch reviews from: https://apps.apple.com/us/app/coinmarketcap-crypto-tracker/id1282107098\n",
      "2023-01-25 13:23:24,588 [INFO] Base - [id:1282107098] Fetched 60 reviews (60 fetched in total)\n",
      "2023-01-25 13:23:25,590 [INFO] Base - Initialised: AppStore('us', 'blockchain-com-wallet-buy-btc', 493253309)\n",
      "2023-01-25 13:23:25,592 [INFO] Base - Ready to fetch reviews from: https://apps.apple.com/us/app/blockchain-com-wallet-buy-btc/id493253309\n",
      "2023-01-25 13:23:26,429 [INFO] Base - [id:493253309] Fetched 60 reviews (60 fetched in total)\n",
      "2023-01-25 13:23:27,390 [INFO] Base - Initialised: AppStore('us', 'the-crypto-app-coin-tracker', 1339112917)\n",
      "2023-01-25 13:23:27,390 [INFO] Base - Ready to fetch reviews from: https://apps.apple.com/us/app/the-crypto-app-coin-tracker/id1339112917\n",
      "2023-01-25 13:23:28,208 [INFO] Base - [id:1339112917] Fetched 41 reviews (41 fetched in total)\n",
      "2023-01-25 13:23:29,709 [INFO] Base - Initialised: AppStore('us', 'okx-buy-bitcoin-eth-crypto', 1327268470)\n",
      "2023-01-25 13:23:29,712 [INFO] Base - Ready to fetch reviews from: https://apps.apple.com/us/app/okx-buy-bitcoin-eth-crypto/id1327268470\n",
      "2023-01-25 13:23:30,572 [INFO] Base - [id:1327268470] Fetched 60 reviews (60 fetched in total)\n",
      "2023-01-25 13:23:31,645 [INFO] Base - Initialised: AppStore('us', 'exodus-crypto-bitcoin-wallet', 1414384820)\n",
      "2023-01-25 13:23:31,647 [INFO] Base - Ready to fetch reviews from: https://apps.apple.com/us/app/exodus-crypto-bitcoin-wallet/id1414384820\n",
      "2023-01-25 13:23:32,494 [INFO] Base - [id:1414384820] Fetched 60 reviews (60 fetched in total)\n"
     ]
    }
   ],
   "source": [
    "#collect 100 reviews for each app\n",
    "df_all = pd.DataFrame()\n",
    "count_all = 100 #number of reviews for each app \n",
    "for row_app in crypto_app.itertuples():\n",
    "    #download reviews from App Store\n",
    "    app_store = AppStore(country = 'us', app_name = row_app[2], app_id = row_app[3])\n",
    "    app_store.review(how_many = 50)      #get reviews\n",
    "    df = pd.DataFrame(app_store.reviews)\n",
    "    #merge title and review into 'review' \n",
    "    df['review'] = df['title'] + '. ' + df['review']\n",
    "    #leave only the required columns\n",
    "    df = df.loc[:, ['rating', 'review', 'date', 'userName']]\n",
    "    df['app_name'] = row_app[1]   #App name\n",
    "    df['marketplace'] = 'Apple App Store' \n",
    "    df_all = df_all.append(df)    #add data to general frame\n",
    "    \n",
    "    #download reviews from GooglePlay\n",
    "    #determine the right amount \n",
    "    count_for_gp = count_all - df.shape[0]\n",
    "    google_play, continuation_token = reviews(row_app[4], count = count_for_gp)   #get reviews\n",
    "    df2 = pd.DataFrame(google_play)\n",
    "    #leave only the required columns\n",
    "    df2 = df2.loc[:, ['content', 'score', 'at', 'userName']]\n",
    "    #rename columns for uniformity\n",
    "    df2.rename(columns = {'content':'review', 'score':'rating', 'at':'date'}, inplace = True)\n",
    "    df2['app_name'] = row_app[1]   #App name\n",
    "    df2['marketplace'] = 'Google Play Store'\n",
    "    df_all = df_all.append(df2)    #add data to general frame"
   ]
  },
  {
   "cell_type": "code",
   "execution_count": 4,
   "id": "02a3f61f",
   "metadata": {},
   "outputs": [],
   "source": [
    "df_all['country'] = 'us' #add country\n",
    "#rename columns\n",
    "df_all.rename(columns = {'review':'app_review_text', 'date':'timestamp'}, inplace = True)"
   ]
  },
  {
   "cell_type": "code",
   "execution_count": 5,
   "id": "63bd10f4",
   "metadata": {},
   "outputs": [
    {
     "data": {
      "text/plain": [
       "(1000, 7)"
      ]
     },
     "execution_count": 5,
     "metadata": {},
     "output_type": "execute_result"
    }
   ],
   "source": [
    "#see how many rows and columns\n",
    "df_all.shape"
   ]
  },
  {
   "cell_type": "code",
   "execution_count": 6,
   "id": "e18ca9b9",
   "metadata": {},
   "outputs": [
    {
     "data": {
      "text/plain": [
       "Apple App Store      526\n",
       "Google Play Store    474\n",
       "Name: marketplace, dtype: int64"
      ]
     },
     "execution_count": 6,
     "metadata": {},
     "output_type": "execute_result"
    }
   ],
   "source": [
    "#see how many are in the Apple App Store and Google Play Store\n",
    "df_all.marketplace.value_counts()"
   ]
  },
  {
   "cell_type": "code",
   "execution_count": 7,
   "id": "b9eaf605",
   "metadata": {},
   "outputs": [
    {
     "data": {
      "text/html": [
       "<div>\n",
       "<style scoped>\n",
       "    .dataframe tbody tr th:only-of-type {\n",
       "        vertical-align: middle;\n",
       "    }\n",
       "\n",
       "    .dataframe tbody tr th {\n",
       "        vertical-align: top;\n",
       "    }\n",
       "\n",
       "    .dataframe thead th {\n",
       "        text-align: right;\n",
       "    }\n",
       "</style>\n",
       "<table border=\"1\" class=\"dataframe\">\n",
       "  <thead>\n",
       "    <tr style=\"text-align: right;\">\n",
       "      <th></th>\n",
       "      <th>rating</th>\n",
       "      <th>app_review_text</th>\n",
       "      <th>timestamp</th>\n",
       "      <th>userName</th>\n",
       "      <th>app_name</th>\n",
       "      <th>marketplace</th>\n",
       "      <th>country</th>\n",
       "    </tr>\n",
       "  </thead>\n",
       "  <tbody>\n",
       "    <tr>\n",
       "      <th>0</th>\n",
       "      <td>4</td>\n",
       "      <td>Great app. So far I am very new to this app, h...</td>\n",
       "      <td>2021-08-25 19:03:14</td>\n",
       "      <td>$cashguy$</td>\n",
       "      <td>Crypto.com</td>\n",
       "      <td>Apple App Store</td>\n",
       "      <td>us</td>\n",
       "    </tr>\n",
       "    <tr>\n",
       "      <th>1</th>\n",
       "      <td>5</td>\n",
       "      <td>Wonderful Crypto App Review Rating. I was so d...</td>\n",
       "      <td>2022-12-09 20:29:00</td>\n",
       "      <td>Joann172</td>\n",
       "      <td>Crypto.com</td>\n",
       "      <td>Apple App Store</td>\n",
       "      <td>us</td>\n",
       "    </tr>\n",
       "    <tr>\n",
       "      <th>2</th>\n",
       "      <td>5</td>\n",
       "      <td>Definitely sufficient wonderful app review. I ...</td>\n",
       "      <td>2023-01-13 19:40:15</td>\n",
       "      <td>Theodore$2G4</td>\n",
       "      <td>Crypto.com</td>\n",
       "      <td>Apple App Store</td>\n",
       "      <td>us</td>\n",
       "    </tr>\n",
       "    <tr>\n",
       "      <th>3</th>\n",
       "      <td>5</td>\n",
       "      <td>Excellent trading service app. I was so dissat...</td>\n",
       "      <td>2022-12-22 22:09:16</td>\n",
       "      <td>KayT07839$</td>\n",
       "      <td>Crypto.com</td>\n",
       "      <td>Apple App Store</td>\n",
       "      <td>us</td>\n",
       "    </tr>\n",
       "    <tr>\n",
       "      <th>4</th>\n",
       "      <td>5</td>\n",
       "      <td>A great crypto app 💯. I was impatient to carry...</td>\n",
       "      <td>2022-11-29 02:23:55</td>\n",
       "      <td>Maria Bronce 🍀🥰🍀</td>\n",
       "      <td>Crypto.com</td>\n",
       "      <td>Apple App Store</td>\n",
       "      <td>us</td>\n",
       "    </tr>\n",
       "  </tbody>\n",
       "</table>\n",
       "</div>"
      ],
      "text/plain": [
       "   rating                                    app_review_text  \\\n",
       "0       4  Great app. So far I am very new to this app, h...   \n",
       "1       5  Wonderful Crypto App Review Rating. I was so d...   \n",
       "2       5  Definitely sufficient wonderful app review. I ...   \n",
       "3       5  Excellent trading service app. I was so dissat...   \n",
       "4       5  A great crypto app 💯. I was impatient to carry...   \n",
       "\n",
       "            timestamp          userName    app_name      marketplace country  \n",
       "0 2021-08-25 19:03:14         $cashguy$  Crypto.com  Apple App Store      us  \n",
       "1 2022-12-09 20:29:00          Joann172  Crypto.com  Apple App Store      us  \n",
       "2 2023-01-13 19:40:15      Theodore$2G4  Crypto.com  Apple App Store      us  \n",
       "3 2022-12-22 22:09:16        KayT07839$  Crypto.com  Apple App Store      us  \n",
       "4 2022-11-29 02:23:55  Maria Bronce 🍀🥰🍀  Crypto.com  Apple App Store      us  "
      ]
     },
     "execution_count": 7,
     "metadata": {},
     "output_type": "execute_result"
    }
   ],
   "source": [
    "#look at the collected data\n",
    "df_all.head()"
   ]
  },
  {
   "cell_type": "code",
   "execution_count": 8,
   "id": "d189a6e2",
   "metadata": {},
   "outputs": [
    {
     "data": {
      "text/html": [
       "<div>\n",
       "<style scoped>\n",
       "    .dataframe tbody tr th:only-of-type {\n",
       "        vertical-align: middle;\n",
       "    }\n",
       "\n",
       "    .dataframe tbody tr th {\n",
       "        vertical-align: top;\n",
       "    }\n",
       "\n",
       "    .dataframe thead th {\n",
       "        text-align: right;\n",
       "    }\n",
       "</style>\n",
       "<table border=\"1\" class=\"dataframe\">\n",
       "  <thead>\n",
       "    <tr style=\"text-align: right;\">\n",
       "      <th></th>\n",
       "      <th>rating</th>\n",
       "    </tr>\n",
       "  </thead>\n",
       "  <tbody>\n",
       "    <tr>\n",
       "      <th>count</th>\n",
       "      <td>1000.000000</td>\n",
       "    </tr>\n",
       "    <tr>\n",
       "      <th>mean</th>\n",
       "      <td>3.735000</td>\n",
       "    </tr>\n",
       "    <tr>\n",
       "      <th>std</th>\n",
       "      <td>1.670798</td>\n",
       "    </tr>\n",
       "    <tr>\n",
       "      <th>min</th>\n",
       "      <td>1.000000</td>\n",
       "    </tr>\n",
       "    <tr>\n",
       "      <th>25%</th>\n",
       "      <td>2.000000</td>\n",
       "    </tr>\n",
       "    <tr>\n",
       "      <th>50%</th>\n",
       "      <td>5.000000</td>\n",
       "    </tr>\n",
       "    <tr>\n",
       "      <th>75%</th>\n",
       "      <td>5.000000</td>\n",
       "    </tr>\n",
       "    <tr>\n",
       "      <th>max</th>\n",
       "      <td>5.000000</td>\n",
       "    </tr>\n",
       "  </tbody>\n",
       "</table>\n",
       "</div>"
      ],
      "text/plain": [
       "            rating\n",
       "count  1000.000000\n",
       "mean      3.735000\n",
       "std       1.670798\n",
       "min       1.000000\n",
       "25%       2.000000\n",
       "50%       5.000000\n",
       "75%       5.000000\n",
       "max       5.000000"
      ]
     },
     "execution_count": 8,
     "metadata": {},
     "output_type": "execute_result"
    }
   ],
   "source": [
    "df_all.describe()"
   ]
  },
  {
   "cell_type": "code",
   "execution_count": 9,
   "id": "d63a5742",
   "metadata": {},
   "outputs": [],
   "source": [
    "#save data to file\n",
    "df_all.to_csv('Reviews_CryptoApp.csv', index = False)"
   ]
  }
 ],
 "metadata": {
  "kernelspec": {
   "display_name": "Python 3",
   "language": "python",
   "name": "python3"
  },
  "language_info": {
   "codemirror_mode": {
    "name": "ipython",
    "version": 3
   },
   "file_extension": ".py",
   "mimetype": "text/x-python",
   "name": "python",
   "nbconvert_exporter": "python",
   "pygments_lexer": "ipython3",
   "version": "3.8.8"
  }
 },
 "nbformat": 4,
 "nbformat_minor": 5
}
