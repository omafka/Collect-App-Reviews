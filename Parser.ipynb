{
 "cells": [
  {
   "cell_type": "markdown",
   "id": "737cdc49",
   "metadata": {},
   "source": [
    "# Соберем отзывы по списку приложений из AppStore и GoogleStore"
   ]
  },
  {
   "cell_type": "code",
   "execution_count": 1,
   "id": "1eab11cc",
   "metadata": {},
   "outputs": [],
   "source": [
    "from app_store_scraper import AppStore\n",
    "from google_play_scraper import Sort, reviews\n",
    "import pandas as pd\n",
    "import numpy as np"
   ]
  },
  {
   "cell_type": "code",
   "execution_count": 2,
   "id": "347f36d0",
   "metadata": {},
   "outputs": [
    {
     "data": {
      "text/html": [
       "<div>\n",
       "<style scoped>\n",
       "    .dataframe tbody tr th:only-of-type {\n",
       "        vertical-align: middle;\n",
       "    }\n",
       "\n",
       "    .dataframe tbody tr th {\n",
       "        vertical-align: top;\n",
       "    }\n",
       "\n",
       "    .dataframe thead th {\n",
       "        text-align: right;\n",
       "    }\n",
       "</style>\n",
       "<table border=\"1\" class=\"dataframe\">\n",
       "  <thead>\n",
       "    <tr style=\"text-align: right;\">\n",
       "      <th></th>\n",
       "      <th>Name</th>\n",
       "      <th>AppStore_name</th>\n",
       "      <th>AppStore_id</th>\n",
       "      <th>GoogleStore_name</th>\n",
       "    </tr>\n",
       "  </thead>\n",
       "  <tbody>\n",
       "    <tr>\n",
       "      <th>0</th>\n",
       "      <td>Crypto.com</td>\n",
       "      <td>crypto-com-buy-bitcoin-eth</td>\n",
       "      <td>1262148500</td>\n",
       "      <td>co.mona.android</td>\n",
       "    </tr>\n",
       "    <tr>\n",
       "      <th>1</th>\n",
       "      <td>Binance</td>\n",
       "      <td>binance-buy-bitcoin-crypto</td>\n",
       "      <td>1436799971</td>\n",
       "      <td>com.binance.dev</td>\n",
       "    </tr>\n",
       "    <tr>\n",
       "      <th>2</th>\n",
       "      <td>KuCoin</td>\n",
       "      <td>kucoin-buy-bitcoin-ether</td>\n",
       "      <td>1378956601</td>\n",
       "      <td>com.kubi.kucoin</td>\n",
       "    </tr>\n",
       "    <tr>\n",
       "      <th>3</th>\n",
       "      <td>Crypto Bubbles</td>\n",
       "      <td>crypto-bubbles</td>\n",
       "      <td>1599892658</td>\n",
       "      <td>net.cryptobubbles</td>\n",
       "    </tr>\n",
       "    <tr>\n",
       "      <th>4</th>\n",
       "      <td>OWNR Digital Wallet</td>\n",
       "      <td>ownr-digital-wallet</td>\n",
       "      <td>1459364947</td>\n",
       "      <td>com.ownrwallet.wallet</td>\n",
       "    </tr>\n",
       "  </tbody>\n",
       "</table>\n",
       "</div>"
      ],
      "text/plain": [
       "                  Name               AppStore_name  AppStore_id  \\\n",
       "0           Crypto.com  crypto-com-buy-bitcoin-eth   1262148500   \n",
       "1              Binance  binance-buy-bitcoin-crypto   1436799971   \n",
       "2               KuCoin    kucoin-buy-bitcoin-ether   1378956601   \n",
       "3       Crypto Bubbles              crypto-bubbles   1599892658   \n",
       "4  OWNR Digital Wallet         ownr-digital-wallet   1459364947   \n",
       "\n",
       "        GoogleStore_name  \n",
       "0        co.mona.android  \n",
       "1        com.binance.dev  \n",
       "2        com.kubi.kucoin  \n",
       "3      net.cryptobubbles  \n",
       "4  com.ownrwallet.wallet  "
      ]
     },
     "execution_count": 2,
     "metadata": {},
     "output_type": "execute_result"
    }
   ],
   "source": [
    "#прочитаем файл со списком приложений\n",
    "crypto_app = pd.read_csv('cryptocurrency-related applications.csv')\n",
    "crypto_app.head()"
   ]
  },
  {
   "cell_type": "code",
   "execution_count": 3,
   "id": "b9c0427f",
   "metadata": {},
   "outputs": [
    {
     "name": "stderr",
     "output_type": "stream",
     "text": [
      "2022-10-05 10:44:53,630 [INFO] Base - Initialised: AppStore('us', 'crypto-com-buy-bitcoin-eth', 1262148500)\n",
      "2022-10-05 10:44:53,633 [INFO] Base - Ready to fetch reviews from: https://apps.apple.com/us/app/crypto-com-buy-bitcoin-eth/id1262148500\n",
      "2022-10-05 10:44:54,555 [INFO] Base - [id:1262148500] Fetched 60 reviews (60 fetched in total)\n",
      "2022-10-05 10:44:54,607 [INFO] numexpr.utils - NumExpr defaulting to 8 threads.\n",
      "2022-10-05 10:44:55,811 [INFO] Base - Initialised: AppStore('us', 'binance-buy-bitcoin-crypto', 1436799971)\n",
      "2022-10-05 10:44:55,813 [INFO] Base - Ready to fetch reviews from: https://apps.apple.com/us/app/binance-buy-bitcoin-crypto/id1436799971\n",
      "2022-10-05 10:44:56,696 [INFO] Base - [id:1436799971] Fetched 60 reviews (60 fetched in total)\n",
      "2022-10-05 10:44:57,775 [INFO] Base - Initialised: AppStore('us', 'kucoin-buy-bitcoin-ether', 1378956601)\n",
      "2022-10-05 10:44:57,776 [INFO] Base - Ready to fetch reviews from: https://apps.apple.com/us/app/kucoin-buy-bitcoin-ether/id1378956601\n",
      "2022-10-05 10:44:58,632 [INFO] Base - [id:1378956601] Fetched 60 reviews (60 fetched in total)\n",
      "2022-10-05 10:44:59,695 [INFO] Base - Initialised: AppStore('us', 'crypto-bubbles', 1599892658)\n",
      "2022-10-05 10:44:59,697 [INFO] Base - Ready to fetch reviews from: https://apps.apple.com/us/app/crypto-bubbles/id1599892658\n",
      "2022-10-05 10:44:59,970 [INFO] Base - [id:1599892658] Fetched 2 reviews (2 fetched in total)\n",
      "2022-10-05 10:45:01,203 [INFO] Base - Initialised: AppStore('us', 'ownr-digital-wallet', 1459364947)\n",
      "2022-10-05 10:45:01,206 [INFO] Base - Ready to fetch reviews from: https://apps.apple.com/us/app/ownr-digital-wallet/id1459364947\n",
      "2022-10-05 10:45:02,403 [INFO] Base - [id:1459364947] Fetched 60 reviews (60 fetched in total)\n",
      "2022-10-05 10:45:03,783 [INFO] Base - Initialised: AppStore('us', 'coinmarketcap-crypto-tracker', 1282107098)\n",
      "2022-10-05 10:45:03,784 [INFO] Base - Ready to fetch reviews from: https://apps.apple.com/us/app/coinmarketcap-crypto-tracker/id1282107098\n",
      "2022-10-05 10:45:04,617 [INFO] Base - [id:1282107098] Fetched 60 reviews (60 fetched in total)\n",
      "2022-10-05 10:45:11,954 [INFO] Base - Initialised: AppStore('us', 'blockchain-com-wallet-buy-btc', 493253309)\n",
      "2022-10-05 10:45:11,954 [INFO] Base - Ready to fetch reviews from: https://apps.apple.com/us/app/blockchain-com-wallet-buy-btc/id493253309\n",
      "2022-10-05 10:45:12,791 [INFO] Base - [id:493253309] Fetched 60 reviews (60 fetched in total)\n",
      "2022-10-05 10:45:13,865 [INFO] Base - Initialised: AppStore('us', 'the-crypto-app-coin-tracker', 1339112917)\n",
      "2022-10-05 10:45:13,866 [INFO] Base - Ready to fetch reviews from: https://apps.apple.com/us/app/the-crypto-app-coin-tracker/id1339112917\n",
      "2022-10-05 10:45:14,416 [INFO] Base - [id:1339112917] Fetched 39 reviews (39 fetched in total)\n",
      "2022-10-05 10:45:15,554 [INFO] Base - Initialised: AppStore('us', 'okx-buy-bitcoin-eth-crypto', 1327268470)\n",
      "2022-10-05 10:45:15,555 [INFO] Base - Ready to fetch reviews from: https://apps.apple.com/us/app/okx-buy-bitcoin-eth-crypto/id1327268470\n",
      "2022-10-05 10:45:16,449 [INFO] Base - [id:1327268470] Fetched 60 reviews (60 fetched in total)\n",
      "2022-10-05 10:45:17,411 [INFO] Base - Initialised: AppStore('us', 'exodus-crypto-bitcoin-wallet', 1414384820)\n",
      "2022-10-05 10:45:17,414 [INFO] Base - Ready to fetch reviews from: https://apps.apple.com/us/app/exodus-crypto-bitcoin-wallet/id1414384820\n",
      "2022-10-05 10:45:18,236 [INFO] Base - [id:1414384820] Fetched 60 reviews (60 fetched in total)\n"
     ]
    }
   ],
   "source": [
    "#соберем по 100 отзывов по каждому приложению\n",
    "df_all = pd.DataFrame()\n",
    "count_all = 100 #количество отзывов по каждому приложению\n",
    "for row_app in crypto_app.itertuples():\n",
    "    #загрузим отзывы с AppStore\n",
    "    app_store = AppStore(country='us', app_name=row_app[2], app_id = row_app[3])\n",
    "    app_store.review(how_many=50)        #взяли отзывы\n",
    "    df = pd.DataFrame(app_store.reviews)\n",
    "    #объединим заголовок и отзыв в отзыв\n",
    "    df['review'] = df['title'] + '. ' + df['review']\n",
    "    #оставим только нужные колонки\n",
    "    df = df.loc[:,['rating', 'review','date','userName']]\n",
    "    df['app_name'] = row_app[1]   #имя приложения\n",
    "    df['marketplace'] = 'Apple App Store' \n",
    "    df_all = df_all.append(df)    #добавим данные в общий фрэйм\n",
    "    \n",
    "    #загрузим отзывы с GooglePlay\n",
    "    #определим нужное количество \n",
    "    count_for_gp = count_all - df.shape[0]\n",
    "    google_play, continuation_token = reviews(row_app[4], count=count_for_gp)   #взяли отзывы\n",
    "    df2 = pd.DataFrame(google_play)\n",
    "    #оставим только нужные колонки\n",
    "    df2 = df2.loc[:,['content', 'score','at','userName']]\n",
    "    #переименуем колонки для единообразности\n",
    "    df2.rename(columns = {'content':'review', 'score':'rating', 'at':'date'}, inplace = True)\n",
    "    df2['app_name'] = row_app[1]   #имя приложения\n",
    "    df2['marketplace'] = 'Google Play Store'\n",
    "    df_all = df_all.append(df2)    #добавим данные в общий фрэйм"
   ]
  },
  {
   "cell_type": "code",
   "execution_count": 4,
   "id": "02a3f61f",
   "metadata": {},
   "outputs": [],
   "source": [
    "df_all['country'] = 'us'\n",
    "df_all.rename(columns = {'review':'app_review_text', 'date':'timestamp'}, inplace = True)"
   ]
  },
  {
   "cell_type": "code",
   "execution_count": 5,
   "id": "63bd10f4",
   "metadata": {},
   "outputs": [
    {
     "data": {
      "text/plain": [
       "(1000, 7)"
      ]
     },
     "execution_count": 5,
     "metadata": {},
     "output_type": "execute_result"
    }
   ],
   "source": [
    "#посмотрим, сколько всего строк и колонок\n",
    "df_all.shape"
   ]
  },
  {
   "cell_type": "code",
   "execution_count": 6,
   "id": "e18ca9b9",
   "metadata": {},
   "outputs": [
    {
     "data": {
      "text/plain": [
       "Apple App Store      521\n",
       "Google Play Store    479\n",
       "Name: marketplace, dtype: int64"
      ]
     },
     "execution_count": 6,
     "metadata": {},
     "output_type": "execute_result"
    }
   ],
   "source": [
    "#посмотрим,сколько в Apple App Store и Google Play Store\n",
    "df_all.marketplace.value_counts()"
   ]
  },
  {
   "cell_type": "code",
   "execution_count": 7,
   "id": "b9eaf605",
   "metadata": {},
   "outputs": [
    {
     "data": {
      "text/html": [
       "<div>\n",
       "<style scoped>\n",
       "    .dataframe tbody tr th:only-of-type {\n",
       "        vertical-align: middle;\n",
       "    }\n",
       "\n",
       "    .dataframe tbody tr th {\n",
       "        vertical-align: top;\n",
       "    }\n",
       "\n",
       "    .dataframe thead th {\n",
       "        text-align: right;\n",
       "    }\n",
       "</style>\n",
       "<table border=\"1\" class=\"dataframe\">\n",
       "  <thead>\n",
       "    <tr style=\"text-align: right;\">\n",
       "      <th></th>\n",
       "      <th>rating</th>\n",
       "      <th>app_review_text</th>\n",
       "      <th>timestamp</th>\n",
       "      <th>userName</th>\n",
       "      <th>app_name</th>\n",
       "      <th>marketplace</th>\n",
       "      <th>country</th>\n",
       "    </tr>\n",
       "  </thead>\n",
       "  <tbody>\n",
       "    <tr>\n",
       "      <th>0</th>\n",
       "      <td>4</td>\n",
       "      <td>Great app. So far I am very new to this app, h...</td>\n",
       "      <td>2021-08-25 19:03:14</td>\n",
       "      <td>$cashguy$</td>\n",
       "      <td>Crypto.com</td>\n",
       "      <td>Apple App Store</td>\n",
       "      <td>us</td>\n",
       "    </tr>\n",
       "    <tr>\n",
       "      <th>1</th>\n",
       "      <td>5</td>\n",
       "      <td>WONDERFUL APP RATING. Today Bitcoin is more th...</td>\n",
       "      <td>2022-09-19 16:59:10</td>\n",
       "      <td>Phyna0803</td>\n",
       "      <td>Crypto.com</td>\n",
       "      <td>Apple App Store</td>\n",
       "      <td>us</td>\n",
       "    </tr>\n",
       "    <tr>\n",
       "      <th>2</th>\n",
       "      <td>1</td>\n",
       "      <td>Doesn’t allow you to buy crypto after a while ...</td>\n",
       "      <td>2021-12-18 16:35:32</td>\n",
       "      <td>4120angel4120</td>\n",
       "      <td>Crypto.com</td>\n",
       "      <td>Apple App Store</td>\n",
       "      <td>us</td>\n",
       "    </tr>\n",
       "    <tr>\n",
       "      <th>3</th>\n",
       "      <td>1</td>\n",
       "      <td>Investors beware. This app started great, it h...</td>\n",
       "      <td>2022-02-18 13:39:08</td>\n",
       "      <td>crypto jj</td>\n",
       "      <td>Crypto.com</td>\n",
       "      <td>Apple App Store</td>\n",
       "      <td>us</td>\n",
       "    </tr>\n",
       "    <tr>\n",
       "      <th>4</th>\n",
       "      <td>1</td>\n",
       "      <td>DO NOT download or put money in this app!. I’m...</td>\n",
       "      <td>2021-06-09 22:15:50</td>\n",
       "      <td>Tommyloansu</td>\n",
       "      <td>Crypto.com</td>\n",
       "      <td>Apple App Store</td>\n",
       "      <td>us</td>\n",
       "    </tr>\n",
       "  </tbody>\n",
       "</table>\n",
       "</div>"
      ],
      "text/plain": [
       "   rating                                    app_review_text  \\\n",
       "0       4  Great app. So far I am very new to this app, h...   \n",
       "1       5  WONDERFUL APP RATING. Today Bitcoin is more th...   \n",
       "2       1  Doesn’t allow you to buy crypto after a while ...   \n",
       "3       1  Investors beware. This app started great, it h...   \n",
       "4       1  DO NOT download or put money in this app!. I’m...   \n",
       "\n",
       "            timestamp       userName    app_name      marketplace country  \n",
       "0 2021-08-25 19:03:14      $cashguy$  Crypto.com  Apple App Store      us  \n",
       "1 2022-09-19 16:59:10      Phyna0803  Crypto.com  Apple App Store      us  \n",
       "2 2021-12-18 16:35:32  4120angel4120  Crypto.com  Apple App Store      us  \n",
       "3 2022-02-18 13:39:08      crypto jj  Crypto.com  Apple App Store      us  \n",
       "4 2021-06-09 22:15:50    Tommyloansu  Crypto.com  Apple App Store      us  "
      ]
     },
     "execution_count": 7,
     "metadata": {},
     "output_type": "execute_result"
    }
   ],
   "source": [
    "#посмотрим на собранные данные\n",
    "df_all.head()"
   ]
  },
  {
   "cell_type": "code",
   "execution_count": 8,
   "id": "d63a5742",
   "metadata": {},
   "outputs": [],
   "source": [
    "#сохраним данные в файл\n",
    "df_all.to_csv('Reviews_CryptoApp.csv',index=False)"
   ]
  },
  {
   "cell_type": "markdown",
   "id": "942adc5b",
   "metadata": {},
   "source": [
    "# Посмотрим детально на собранные данные"
   ]
  },
  {
   "cell_type": "code",
   "execution_count": 9,
   "id": "21694d4b",
   "metadata": {},
   "outputs": [],
   "source": [
    "import seaborn as sns\n",
    "import matplotlib.pyplot as plt"
   ]
  },
  {
   "cell_type": "code",
   "execution_count": 10,
   "id": "dcfc68ae",
   "metadata": {},
   "outputs": [
    {
     "data": {
      "image/png": "[encoded data removed]",
      "text/plain": [
       "<Figure size 544.125x360 with 1 Axes>"
      ]
     },
     "metadata": {
      "needs_background": "light"
     },
     "output_type": "display_data"
    }
   ],
   "source": [
    "#сколько отзывов по каждому приложению\n",
    "sns.catplot(x='marketplace', kind='count', hue='app_name', data=df_all);"
   ]
  },
  {
   "cell_type": "code",
   "execution_count": 11,
   "id": "4f6f15b6",
   "metadata": {},
   "outputs": [
    {
     "data": {
      "text/html": [
       "<div>\n",
       "<style scoped>\n",
       "    .dataframe tbody tr th:only-of-type {\n",
       "        vertical-align: middle;\n",
       "    }\n",
       "\n",
       "    .dataframe tbody tr th {\n",
       "        vertical-align: top;\n",
       "    }\n",
       "\n",
       "    .dataframe thead th {\n",
       "        text-align: right;\n",
       "    }\n",
       "</style>\n",
       "<table border=\"1\" class=\"dataframe\">\n",
       "  <thead>\n",
       "    <tr style=\"text-align: right;\">\n",
       "      <th>marketplace</th>\n",
       "      <th>Apple App Store</th>\n",
       "      <th>Google Play Store</th>\n",
       "      <th>Total</th>\n",
       "    </tr>\n",
       "    <tr>\n",
       "      <th>app_name</th>\n",
       "      <th></th>\n",
       "      <th></th>\n",
       "      <th></th>\n",
       "    </tr>\n",
       "  </thead>\n",
       "  <tbody>\n",
       "    <tr>\n",
       "      <th>Binance</th>\n",
       "      <td>60</td>\n",
       "      <td>40</td>\n",
       "      <td>100</td>\n",
       "    </tr>\n",
       "    <tr>\n",
       "      <th>Blockchain.com Wallet</th>\n",
       "      <td>60</td>\n",
       "      <td>40</td>\n",
       "      <td>100</td>\n",
       "    </tr>\n",
       "    <tr>\n",
       "      <th>CoinMarketCap</th>\n",
       "      <td>60</td>\n",
       "      <td>40</td>\n",
       "      <td>100</td>\n",
       "    </tr>\n",
       "    <tr>\n",
       "      <th>Crypto Bubbles</th>\n",
       "      <td>2</td>\n",
       "      <td>98</td>\n",
       "      <td>100</td>\n",
       "    </tr>\n",
       "    <tr>\n",
       "      <th>Crypto.com</th>\n",
       "      <td>60</td>\n",
       "      <td>40</td>\n",
       "      <td>100</td>\n",
       "    </tr>\n",
       "    <tr>\n",
       "      <th>Exodus</th>\n",
       "      <td>60</td>\n",
       "      <td>40</td>\n",
       "      <td>100</td>\n",
       "    </tr>\n",
       "    <tr>\n",
       "      <th>KuCoin</th>\n",
       "      <td>60</td>\n",
       "      <td>40</td>\n",
       "      <td>100</td>\n",
       "    </tr>\n",
       "    <tr>\n",
       "      <th>OKX</th>\n",
       "      <td>60</td>\n",
       "      <td>40</td>\n",
       "      <td>100</td>\n",
       "    </tr>\n",
       "    <tr>\n",
       "      <th>OWNR Digital Wallet</th>\n",
       "      <td>60</td>\n",
       "      <td>40</td>\n",
       "      <td>100</td>\n",
       "    </tr>\n",
       "    <tr>\n",
       "      <th>The Crypto App - Coin Tracker</th>\n",
       "      <td>39</td>\n",
       "      <td>61</td>\n",
       "      <td>100</td>\n",
       "    </tr>\n",
       "    <tr>\n",
       "      <th>Total</th>\n",
       "      <td>521</td>\n",
       "      <td>479</td>\n",
       "      <td>1000</td>\n",
       "    </tr>\n",
       "  </tbody>\n",
       "</table>\n",
       "</div>"
      ],
      "text/plain": [
       "marketplace                    Apple App Store  Google Play Store  Total\n",
       "app_name                                                                \n",
       "Binance                                     60                 40    100\n",
       "Blockchain.com Wallet                       60                 40    100\n",
       "CoinMarketCap                               60                 40    100\n",
       "Crypto Bubbles                               2                 98    100\n",
       "Crypto.com                                  60                 40    100\n",
       "Exodus                                      60                 40    100\n",
       "KuCoin                                      60                 40    100\n",
       "OKX                                         60                 40    100\n",
       "OWNR Digital Wallet                         60                 40    100\n",
       "The Crypto App - Coin Tracker               39                 61    100\n",
       "Total                                      521                479   1000"
      ]
     },
     "execution_count": 11,
     "metadata": {},
     "output_type": "execute_result"
    }
   ],
   "source": [
    "#посмотрим на цифры\n",
    "ct = pd.crosstab(df_all.app_name, df_all.marketplace, margins=True, margins_name=\"Total\")\n",
    "ct"
   ]
  },
  {
   "cell_type": "code",
   "execution_count": 12,
   "id": "0531b006",
   "metadata": {},
   "outputs": [
    {
     "data": {
      "text/html": [
       "<div>\n",
       "<style scoped>\n",
       "    .dataframe tbody tr th:only-of-type {\n",
       "        vertical-align: middle;\n",
       "    }\n",
       "\n",
       "    .dataframe tbody tr th {\n",
       "        vertical-align: top;\n",
       "    }\n",
       "\n",
       "    .dataframe thead th {\n",
       "        text-align: right;\n",
       "    }\n",
       "</style>\n",
       "<table border=\"1\" class=\"dataframe\">\n",
       "  <thead>\n",
       "    <tr style=\"text-align: right;\">\n",
       "      <th></th>\n",
       "      <th></th>\n",
       "      <th>timestamp</th>\n",
       "    </tr>\n",
       "    <tr>\n",
       "      <th>timestamp</th>\n",
       "      <th>timestamp</th>\n",
       "      <th></th>\n",
       "    </tr>\n",
       "  </thead>\n",
       "  <tbody>\n",
       "    <tr>\n",
       "      <th>2017</th>\n",
       "      <th>11</th>\n",
       "      <td>1</td>\n",
       "    </tr>\n",
       "    <tr>\n",
       "      <th rowspan=\"6\" valign=\"top\">2018</th>\n",
       "      <th>3</th>\n",
       "      <td>1</td>\n",
       "    </tr>\n",
       "    <tr>\n",
       "      <th>5</th>\n",
       "      <td>2</td>\n",
       "    </tr>\n",
       "    <tr>\n",
       "      <th>6</th>\n",
       "      <td>1</td>\n",
       "    </tr>\n",
       "    <tr>\n",
       "      <th>10</th>\n",
       "      <td>1</td>\n",
       "    </tr>\n",
       "    <tr>\n",
       "      <th>11</th>\n",
       "      <td>2</td>\n",
       "    </tr>\n",
       "    <tr>\n",
       "      <th>12</th>\n",
       "      <td>1</td>\n",
       "    </tr>\n",
       "    <tr>\n",
       "      <th rowspan=\"10\" valign=\"top\">2019</th>\n",
       "      <th>2</th>\n",
       "      <td>1</td>\n",
       "    </tr>\n",
       "    <tr>\n",
       "      <th>3</th>\n",
       "      <td>1</td>\n",
       "    </tr>\n",
       "    <tr>\n",
       "      <th>4</th>\n",
       "      <td>1</td>\n",
       "    </tr>\n",
       "    <tr>\n",
       "      <th>5</th>\n",
       "      <td>2</td>\n",
       "    </tr>\n",
       "    <tr>\n",
       "      <th>6</th>\n",
       "      <td>2</td>\n",
       "    </tr>\n",
       "    <tr>\n",
       "      <th>7</th>\n",
       "      <td>2</td>\n",
       "    </tr>\n",
       "    <tr>\n",
       "      <th>9</th>\n",
       "      <td>5</td>\n",
       "    </tr>\n",
       "    <tr>\n",
       "      <th>10</th>\n",
       "      <td>1</td>\n",
       "    </tr>\n",
       "    <tr>\n",
       "      <th>11</th>\n",
       "      <td>1</td>\n",
       "    </tr>\n",
       "    <tr>\n",
       "      <th>12</th>\n",
       "      <td>3</td>\n",
       "    </tr>\n",
       "    <tr>\n",
       "      <th rowspan=\"11\" valign=\"top\">2020</th>\n",
       "      <th>1</th>\n",
       "      <td>5</td>\n",
       "    </tr>\n",
       "    <tr>\n",
       "      <th>2</th>\n",
       "      <td>1</td>\n",
       "    </tr>\n",
       "    <tr>\n",
       "      <th>3</th>\n",
       "      <td>1</td>\n",
       "    </tr>\n",
       "    <tr>\n",
       "      <th>5</th>\n",
       "      <td>3</td>\n",
       "    </tr>\n",
       "    <tr>\n",
       "      <th>6</th>\n",
       "      <td>3</td>\n",
       "    </tr>\n",
       "    <tr>\n",
       "      <th>7</th>\n",
       "      <td>29</td>\n",
       "    </tr>\n",
       "    <tr>\n",
       "      <th>8</th>\n",
       "      <td>11</td>\n",
       "    </tr>\n",
       "    <tr>\n",
       "      <th>9</th>\n",
       "      <td>14</td>\n",
       "    </tr>\n",
       "    <tr>\n",
       "      <th>10</th>\n",
       "      <td>21</td>\n",
       "    </tr>\n",
       "    <tr>\n",
       "      <th>11</th>\n",
       "      <td>11</td>\n",
       "    </tr>\n",
       "    <tr>\n",
       "      <th>12</th>\n",
       "      <td>7</td>\n",
       "    </tr>\n",
       "    <tr>\n",
       "      <th rowspan=\"12\" valign=\"top\">2021</th>\n",
       "      <th>1</th>\n",
       "      <td>13</td>\n",
       "    </tr>\n",
       "    <tr>\n",
       "      <th>2</th>\n",
       "      <td>24</td>\n",
       "    </tr>\n",
       "    <tr>\n",
       "      <th>3</th>\n",
       "      <td>16</td>\n",
       "    </tr>\n",
       "    <tr>\n",
       "      <th>4</th>\n",
       "      <td>25</td>\n",
       "    </tr>\n",
       "    <tr>\n",
       "      <th>5</th>\n",
       "      <td>34</td>\n",
       "    </tr>\n",
       "    <tr>\n",
       "      <th>6</th>\n",
       "      <td>32</td>\n",
       "    </tr>\n",
       "    <tr>\n",
       "      <th>7</th>\n",
       "      <td>12</td>\n",
       "    </tr>\n",
       "    <tr>\n",
       "      <th>8</th>\n",
       "      <td>9</td>\n",
       "    </tr>\n",
       "    <tr>\n",
       "      <th>9</th>\n",
       "      <td>24</td>\n",
       "    </tr>\n",
       "    <tr>\n",
       "      <th>10</th>\n",
       "      <td>21</td>\n",
       "    </tr>\n",
       "    <tr>\n",
       "      <th>11</th>\n",
       "      <td>25</td>\n",
       "    </tr>\n",
       "    <tr>\n",
       "      <th>12</th>\n",
       "      <td>24</td>\n",
       "    </tr>\n",
       "    <tr>\n",
       "      <th rowspan=\"10\" valign=\"top\">2022</th>\n",
       "      <th>1</th>\n",
       "      <td>18</td>\n",
       "    </tr>\n",
       "    <tr>\n",
       "      <th>2</th>\n",
       "      <td>18</td>\n",
       "    </tr>\n",
       "    <tr>\n",
       "      <th>3</th>\n",
       "      <td>14</td>\n",
       "    </tr>\n",
       "    <tr>\n",
       "      <th>4</th>\n",
       "      <td>16</td>\n",
       "    </tr>\n",
       "    <tr>\n",
       "      <th>5</th>\n",
       "      <td>12</td>\n",
       "    </tr>\n",
       "    <tr>\n",
       "      <th>6</th>\n",
       "      <td>24</td>\n",
       "    </tr>\n",
       "    <tr>\n",
       "      <th>7</th>\n",
       "      <td>33</td>\n",
       "    </tr>\n",
       "    <tr>\n",
       "      <th>8</th>\n",
       "      <td>48</td>\n",
       "    </tr>\n",
       "    <tr>\n",
       "      <th>9</th>\n",
       "      <td>175</td>\n",
       "    </tr>\n",
       "    <tr>\n",
       "      <th>10</th>\n",
       "      <td>249</td>\n",
       "    </tr>\n",
       "  </tbody>\n",
       "</table>\n",
       "</div>"
      ],
      "text/plain": [
       "                     timestamp\n",
       "timestamp timestamp           \n",
       "2017      11                 1\n",
       "2018      3                  1\n",
       "          5                  2\n",
       "          6                  1\n",
       "          10                 1\n",
       "          11                 2\n",
       "          12                 1\n",
       "2019      2                  1\n",
       "          3                  1\n",
       "          4                  1\n",
       "          5                  2\n",
       "          6                  2\n",
       "          7                  2\n",
       "          9                  5\n",
       "          10                 1\n",
       "          11                 1\n",
       "          12                 3\n",
       "2020      1                  5\n",
       "          2                  1\n",
       "          3                  1\n",
       "          5                  3\n",
       "          6                  3\n",
       "          7                 29\n",
       "          8                 11\n",
       "          9                 14\n",
       "          10                21\n",
       "          11                11\n",
       "          12                 7\n",
       "2021      1                 13\n",
       "          2                 24\n",
       "          3                 16\n",
       "          4                 25\n",
       "          5                 34\n",
       "          6                 32\n",
       "          7                 12\n",
       "          8                  9\n",
       "          9                 24\n",
       "          10                21\n",
       "          11                25\n",
       "          12                24\n",
       "2022      1                 18\n",
       "          2                 18\n",
       "          3                 14\n",
       "          4                 16\n",
       "          5                 12\n",
       "          6                 24\n",
       "          7                 33\n",
       "          8                 48\n",
       "          9                175\n",
       "          10               249"
      ]
     },
     "execution_count": 12,
     "metadata": {},
     "output_type": "execute_result"
    }
   ],
   "source": [
    "#посмотрим на разброс дат таблицей\n",
    "df_all[\"timestamp\"] = df_all[\"timestamp\"].astype(\"datetime64\") \n",
    "df_date = df_all.copy()\n",
    "df_date = df_date.drop(['rating','app_review_text','app_name','marketplace','country','userName'], axis=1)\n",
    "df_date.groupby([df_date['timestamp'].dt.year,df_date['timestamp'].dt.month]).count()"
   ]
  },
  {
   "cell_type": "code",
   "execution_count": 13,
   "id": "040706bf",
   "metadata": {
    "scrolled": true
   },
   "outputs": [
    {
     "data": {
      "text/plain": [
       "Text(0.5, 1.0, 'собранные отзывы по периодам')"
      ]
     },
     "execution_count": 13,
     "metadata": {},
     "output_type": "execute_result"
    },
    {
     "data": {
      "image/png": "[encoded data removed]",
      "text/plain": [
       "<Figure size 864x288 with 1 Axes>"
      ]
     },
     "metadata": {
      "needs_background": "light"
     },
     "output_type": "display_data"
    }
   ],
   "source": [
    "#посмотрим на разброс дат гистограммой\n",
    "plt.figure(figsize=(12, 4))\n",
    "plt.hist(df_date, bins = 40,color = 'b', label = 'date')\n",
    "plt.legend()\n",
    "plt.title(\"собранные отзывы по периодам\")"
   ]
  },
  {
   "cell_type": "code",
   "execution_count": 14,
   "id": "314822db",
   "metadata": {},
   "outputs": [
    {
     "data": {
      "text/plain": [
       "5    551\n",
       "1    226\n",
       "4    107\n",
       "3     59\n",
       "2     57\n",
       "Name: rating, dtype: int64"
      ]
     },
     "execution_count": 14,
     "metadata": {},
     "output_type": "execute_result"
    }
   ],
   "source": [
    "#посмотрим на распределение рейтингов по всем отзывам\n",
    "df_all.rating.value_counts()"
   ]
  },
  {
   "cell_type": "code",
   "execution_count": 15,
   "id": "f3c90d3c",
   "metadata": {},
   "outputs": [
    {
     "data": {
      "text/plain": [
       "<AxesSubplot:title={'center':'rating all apps'}, ylabel='Frequency'>"
      ]
     },
     "execution_count": 15,
     "metadata": {},
     "output_type": "execute_result"
    },
    {
     "data": {
      "image/png": "[encoded data removed]",
      "text/plain": [
       "<Figure size 432x288 with 1 Axes>"
      ]
     },
     "metadata": {
      "needs_background": "light"
     },
     "output_type": "display_data"
    }
   ],
   "source": [
    "#посмотрим на гистограмму рейтингов по всем отзывам\n",
    "df_all.rating.plot(kind='hist', title = 'rating all apps')"
   ]
  },
  {
   "cell_type": "code",
   "execution_count": 17,
   "id": "dde0b730",
   "metadata": {},
   "outputs": [
    {
     "data": {
      "image/png": "[encoded data removed]",
      "text/plain": [
       "<Figure size 1440x720 with 10 Axes>"
      ]
     },
     "metadata": {
      "needs_background": "light"
     },
     "output_type": "display_data"
    }
   ],
   "source": [
    "import math\n",
    "\n",
    "#посмотрим на распределения рейтингов по каждому приложению\n",
    "plt.figure(figsize=(20, 10))\n",
    "i = 0\n",
    "for row_app in crypto_app.itertuples():\n",
    "    app_name = row_app[1]\n",
    "    i +=1\n",
    "    plt.subplot(2,5,i)\n",
    "    plt.hist(df_all[df_all.app_name == app_name].rating.values, color = 'g', label = 'rating')\n",
    "    plt.legend()\n",
    "    plt.title(app_name)\n",
    "\n",
    "plt.show()"
   ]
  },
  {
   "cell_type": "code",
   "execution_count": null,
   "id": "84e5a1bb",
   "metadata": {},
   "outputs": [],
   "source": []
  }
 ],
 "metadata": {
  "kernelspec": {
   "display_name": "Python 3",
   "language": "python",
   "name": "python3"
  },
  "language_info": {
   "codemirror_mode": {
    "name": "ipython",
    "version": 3
   },
   "file_extension": ".py",
   "mimetype": "text/x-python",
   "name": "python",
   "nbconvert_exporter": "python",
   "pygments_lexer": "ipython3",
   "version": "3.8.8"
  }
 },
 "nbformat": 4,
 "nbformat_minor": 5
}
